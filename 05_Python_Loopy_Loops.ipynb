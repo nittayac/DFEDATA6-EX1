{
  "nbformat": 4,
  "nbformat_minor": 0,
  "metadata": {
    "colab": {
      "name": "Python Loopy Loops.ipynb",
      "provenance": [],
      "include_colab_link": true
    },
    "kernelspec": {
      "name": "python3",
      "display_name": "Python 3"
    },
    "language_info": {
      "name": "python"
    }
  },
  "cells": [
    {
      "cell_type": "markdown",
      "metadata": {
        "id": "view-in-github",
        "colab_type": "text"
      },
      "source": [
        "<a href=\"https://colab.research.google.com/github/nittayac/DFEDATA6-EX1/blob/main/05_Python_Loopy_Loops.ipynb\" target=\"_parent\"><img src=\"https://colab.research.google.com/assets/colab-badge.svg\" alt=\"Open In Colab\"/></a>"
      ]
    },
    {
      "cell_type": "code",
      "execution_count": 1,
      "metadata": {
        "id": "36DCp--WCulL"
      },
      "outputs": [],
      "source": [
        "animals = ['rabbit', 'pangolin', 'platypus']\n",
        "numbers = [1,2,3,4]\n"
      ]
    },
    {
      "cell_type": "code",
      "source": [
        "for animal in animals:\n",
        "  print(animal, end= \" \")"
      ],
      "metadata": {
        "colab": {
          "base_uri": "https://localhost:8080/"
        },
        "id": "W2-Qfxv2C5o_",
        "outputId": "76cff42d-9a8c-4d87-d61b-576ab49ffca3"
      },
      "execution_count": null,
      "outputs": [
        {
          "output_type": "stream",
          "name": "stdout",
          "text": [
            "rabbit pangolin platypus "
          ]
        }
      ]
    },
    {
      "cell_type": "code",
      "source": [
        "for num in numbers:\n",
        "  print(num, end=' ')"
      ],
      "metadata": {
        "colab": {
          "base_uri": "https://localhost:8080/"
        },
        "id": "yZO3YB_NC8vX",
        "outputId": "5e59d989-41d8-4c4c-cce8-7fb03c7353c5"
      },
      "execution_count": null,
      "outputs": [
        {
          "output_type": "stream",
          "name": "stdout",
          "text": [
            "1 2 3 4 "
          ]
        }
      ]
    },
    {
      "cell_type": "code",
      "source": [
        "firsttennums = range(10)\n",
        "for num in firsttennums:\n",
        "  print(num, end=' ')"
      ],
      "metadata": {
        "colab": {
          "base_uri": "https://localhost:8080/"
        },
        "id": "9S7nrDlvDFRQ",
        "outputId": "d22688e7-2107-4ea9-9297-43dbaa95ba48"
      },
      "execution_count": null,
      "outputs": [
        {
          "output_type": "stream",
          "name": "stdout",
          "text": [
            "0 1 2 3 4 5 6 7 8 9 "
          ]
        }
      ]
    },
    {
      "cell_type": "code",
      "source": [
        "for i in range(10):\n",
        "  for j in range(i):\n",
        "    print(i, end=' ')\n",
        "  print()"
      ],
      "metadata": {
        "colab": {
          "base_uri": "https://localhost:8080/"
        },
        "id": "ZGfpHuizDP40",
        "outputId": "b07c54cf-44a6-4e43-f00e-194b88aebe2b"
      },
      "execution_count": null,
      "outputs": [
        {
          "output_type": "stream",
          "name": "stdout",
          "text": [
            "\n",
            "1 \n",
            "2 2 \n",
            "3 3 3 \n",
            "4 4 4 4 \n",
            "5 5 5 5 5 \n",
            "6 6 6 6 6 6 \n",
            "7 7 7 7 7 7 7 \n",
            "8 8 8 8 8 8 8 8 \n",
            "9 9 9 9 9 9 9 9 9 \n"
          ]
        }
      ]
    },
    {
      "cell_type": "code",
      "source": [
        "for i in range(10):\n",
        "  # print some space here\n",
        "  for sp in range(10-i):\n",
        "    print(' ', end='')\n",
        "  for j in range(i):\n",
        "    print(i, end=' ')\n",
        "  print()"
      ],
      "metadata": {
        "colab": {
          "base_uri": "https://localhost:8080/"
        },
        "id": "sWm6lSObDmFE",
        "outputId": "3bfd107c-f016-485f-bf30-f7a286a876b9"
      },
      "execution_count": null,
      "outputs": [
        {
          "output_type": "stream",
          "name": "stdout",
          "text": [
            "          \n",
            "         1 \n",
            "        2 2 \n",
            "       3 3 3 \n",
            "      4 4 4 4 \n",
            "     5 5 5 5 5 \n",
            "    6 6 6 6 6 6 \n",
            "   7 7 7 7 7 7 7 \n",
            "  8 8 8 8 8 8 8 8 \n",
            " 9 9 9 9 9 9 9 9 9 \n"
          ]
        }
      ]
    },
    {
      "cell_type": "code",
      "source": [
        "prose = {\n",
        "    \"William Wordsworth\": \"poem 123 \",\n",
        "    \"Shakespeare\": \"Merchant of Venice\",\n",
        "    3: \"Illiad\",\n",
        "    4 : \"Romeo and Juliet\",\n",
        "    False: \"Poseidon and Hades are pretty good friends\"\n",
        "}"
      ],
      "metadata": {
        "id": "8cvzpKMkEGwe"
      },
      "execution_count": null,
      "outputs": []
    },
    {
      "cell_type": "code",
      "source": [
        "prose"
      ],
      "metadata": {
        "colab": {
          "base_uri": "https://localhost:8080/"
        },
        "id": "wwyK4LHvEzCo",
        "outputId": "3d499bd1-65c2-43d6-8eac-97a229cf5d25"
      },
      "execution_count": null,
      "outputs": [
        {
          "output_type": "execute_result",
          "data": {
            "text/plain": [
              "{3: 'Illiad',\n",
              " 4: 'Romeo and Juliet',\n",
              " False: 'Poseidon and Hades are pretty good friends',\n",
              " 'Shakespeare': 'Merchant of Venice',\n",
              " 'William Wordsworth': 'poem 123 '}"
            ]
          },
          "metadata": {},
          "execution_count": 12
        }
      ]
    },
    {
      "cell_type": "code",
      "source": [
        "for randomKey,randomValue in prose.items():\n",
        "  print('random key =' + str(randomKey) , end=\" \")\n",
        "  print('random value =' + str(randomValue))\n"
      ],
      "metadata": {
        "colab": {
          "base_uri": "https://localhost:8080/"
        },
        "id": "W-mwT-w8E2lJ",
        "outputId": "6abd8dba-47e8-45f9-c40f-aef7a91f6dec"
      },
      "execution_count": null,
      "outputs": [
        {
          "output_type": "stream",
          "name": "stdout",
          "text": [
            "random key =William Wordsworth random value =poem 123 \n",
            "random key =Shakespeare random value =Merchant of Venice\n",
            "random key =3 random value =Illiad\n",
            "random key =4 random value =Romeo and Juliet\n",
            "random key =False random value =Poseidon and Hades are pretty good friends\n"
          ]
        }
      ]
    },
    {
      "cell_type": "code",
      "source": [
        "def randomfn(potato):\n",
        "  for tomato,peas in potato.items():\n",
        "    print(tomato, peas)"
      ],
      "metadata": {
        "id": "M99PXGfAFQve"
      },
      "execution_count": null,
      "outputs": []
    },
    {
      "cell_type": "code",
      "source": [
        "randomfn(prose)"
      ],
      "metadata": {
        "colab": {
          "base_uri": "https://localhost:8080/"
        },
        "id": "0P56qReDFmys",
        "outputId": "c70dfbc6-01c1-43a7-b2bc-3bba0c0392cd"
      },
      "execution_count": null,
      "outputs": [
        {
          "output_type": "stream",
          "name": "stdout",
          "text": [
            "William Wordsworth poem 123 \n",
            "Shakespeare Merchant of Venice\n",
            "3 Illiad\n",
            "4 Romeo and Juliet\n",
            "False Poseidon and Hades are pretty good friends\n"
          ]
        }
      ]
    },
    {
      "cell_type": "code",
      "source": [
        "randomfn(animals)"
      ],
      "metadata": {
        "colab": {
          "base_uri": "https://localhost:8080/",
          "height": 253
        },
        "id": "EUQsxPclFpqj",
        "outputId": "7b03fc99-7dc1-45ce-e645-dff1a7225257"
      },
      "execution_count": null,
      "outputs": [
        {
          "output_type": "error",
          "ename": "AttributeError",
          "evalue": "ignored",
          "traceback": [
            "\u001b[0;31m---------------------------------------------------------------------------\u001b[0m",
            "\u001b[0;31mAttributeError\u001b[0m                            Traceback (most recent call last)",
            "\u001b[0;32m<ipython-input-16-ae46362df07e>\u001b[0m in \u001b[0;36m<module>\u001b[0;34m()\u001b[0m\n\u001b[0;32m----> 1\u001b[0;31m \u001b[0mrandomfn\u001b[0m\u001b[0;34m(\u001b[0m\u001b[0manimals\u001b[0m\u001b[0;34m)\u001b[0m\u001b[0;34m\u001b[0m\u001b[0;34m\u001b[0m\u001b[0m\n\u001b[0m",
            "\u001b[0;32m<ipython-input-14-bb066f10f683>\u001b[0m in \u001b[0;36mrandomfn\u001b[0;34m(potato)\u001b[0m\n\u001b[1;32m      1\u001b[0m \u001b[0;32mdef\u001b[0m \u001b[0mrandomfn\u001b[0m\u001b[0;34m(\u001b[0m\u001b[0mpotato\u001b[0m\u001b[0;34m)\u001b[0m\u001b[0;34m:\u001b[0m\u001b[0;34m\u001b[0m\u001b[0;34m\u001b[0m\u001b[0m\n\u001b[0;32m----> 2\u001b[0;31m   \u001b[0;32mfor\u001b[0m \u001b[0mtomato\u001b[0m\u001b[0;34m,\u001b[0m\u001b[0mpeas\u001b[0m \u001b[0;32min\u001b[0m \u001b[0mpotato\u001b[0m\u001b[0;34m.\u001b[0m\u001b[0mitems\u001b[0m\u001b[0;34m(\u001b[0m\u001b[0;34m)\u001b[0m\u001b[0;34m:\u001b[0m\u001b[0;34m\u001b[0m\u001b[0;34m\u001b[0m\u001b[0m\n\u001b[0m\u001b[1;32m      3\u001b[0m     \u001b[0mprint\u001b[0m\u001b[0;34m(\u001b[0m\u001b[0mtomato\u001b[0m\u001b[0;34m,\u001b[0m \u001b[0mpeas\u001b[0m\u001b[0;34m)\u001b[0m\u001b[0;34m\u001b[0m\u001b[0;34m\u001b[0m\u001b[0m\n",
            "\u001b[0;31mAttributeError\u001b[0m: 'list' object has no attribute 'items'"
          ]
        }
      ]
    },
    {
      "cell_type": "code",
      "source": [
        "def randomfn2(potato):\n",
        "  try:\n",
        "    for tomato,peas in potato.items():\n",
        "      print(tomato, peas)\n",
        "  except:\n",
        "    print('Are you sure you used a dictionary?')"
      ],
      "metadata": {
        "id": "EVbkSVJWFt3l"
      },
      "execution_count": null,
      "outputs": []
    },
    {
      "cell_type": "code",
      "source": [
        "randomfn2(animals)"
      ],
      "metadata": {
        "colab": {
          "base_uri": "https://localhost:8080/"
        },
        "id": "JQVDhD21F_iw",
        "outputId": "7e65fc72-b1f7-4545-d407-ffc452e1409c"
      },
      "execution_count": null,
      "outputs": [
        {
          "output_type": "stream",
          "name": "stdout",
          "text": [
            "Are you sure you used a dictionary?\n"
          ]
        }
      ]
    },
    {
      "cell_type": "code",
      "source": [
        ""
      ],
      "metadata": {
        "id": "y27riNXJGChq"
      },
      "execution_count": null,
      "outputs": []
    }
  ]
}