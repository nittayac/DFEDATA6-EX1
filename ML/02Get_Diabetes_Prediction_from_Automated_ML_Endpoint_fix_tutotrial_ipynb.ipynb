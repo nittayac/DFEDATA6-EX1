{
  "nbformat": 4,
  "nbformat_minor": 0,
  "metadata": {
    "colab": {
      "name": "02Get Diabetes Prediction from Automated ML Endpoint_fix_tutotrial.ipynb.ipynb",
      "provenance": [],
      "authorship_tag": "ABX9TyOT0hgFDufEgjNtHmi2YPDY",
      "include_colab_link": true
    },
    "kernelspec": {
      "name": "python3",
      "display_name": "Python 3"
    },
    "language_info": {
      "name": "python"
    }
  },
  "cells": [
    {
      "cell_type": "markdown",
      "metadata": {
        "id": "view-in-github",
        "colab_type": "text"
      },
      "source": [
        "<a href=\"https://colab.research.google.com/github/nittayac/DFEDATA6-EX1/blob/main/ML/02Get_Diabetes_Prediction_from_Automated_ML_Endpoint_fix_tutotrial_ipynb.ipynb\" target=\"_parent\"><img src=\"https://colab.research.google.com/assets/colab-badge.svg\" alt=\"Open In Colab\"/></a>"
      ]
    },
    {
      "cell_type": "code",
      "execution_count": 73,
      "metadata": {
        "colab": {
          "base_uri": "https://localhost:8080/"
        },
        "id": "VISGhuMxQCsz",
        "outputId": "37a59a21-4598-417e-b62d-c7ee3d97c839"
      },
      "outputs": [
        {
          "output_type": "stream",
          "name": "stdout",
          "text": [
            "Diabetic\n"
          ]
        }
      ],
      "source": [
        "#https://github.com/MicrosoftLearning/mslearn-dp100/blob/main/instructions/01-create-a-workspace.md\n",
        "\n",
        "\n",
        "endpoint = 'http://32007595-6b05-48a6-88ab-79142470c1eb.eastus.azurecontainer.io/score' #Replace with your endpoint\n",
        "key = 'XcMKxgy2Eam4kcnQllvnqRE7NUcFRa4f' #Replace with your key\n",
        "\n",
        "import json\n",
        "import requests\n",
        "import ssl\n",
        "import os\n",
        "\n",
        "def allowSelfSignedHttps(allowed):\n",
        "    # bypass the server certificate verification on client side\n",
        "    if allowed and not os.environ.get('PYTHONHTTPSVERIFY', '') and getattr(ssl, '_create_unverified_context', None):\n",
        "        ssl._create_default_https_context = ssl._create_unverified_context\n",
        "\n",
        "allowSelfSignedHttps(True) # this line is needed if you use self-signed certificate in your scoring service.\n",
        "\n",
        "\n",
        "#Features for a patient\n",
        "data = {\n",
        "    \"Inputs\": {\n",
        "        \"WebServiceInput0\":\n",
        "        [\n",
        "            {\n",
        "                \"PatientID\": \"1882185\",\n",
        "                \"Pregnancies\": \"9\",\n",
        "                \"PlasmaGlucose\": \"104\",\n",
        "                \"DiastolicBloodPressure\": \"51\",\n",
        "                \"TricepsThickness\": \"7\",\n",
        "                \"SerumInsulin\": \"24\",\n",
        "                \"BMI\": \"27.36983156\",\n",
        "                \"DiabetesPedigree\": \"1.3504720469999998\",\n",
        "                \"Age\": \"43\"\n",
        "            },\n",
        "        ]\n",
        "    },\n",
        "    \"GlobalParameters\": {\n",
        "    }\n",
        "}\n",
        "\n",
        "\n",
        "#Create a \"data\" JSON object\n",
        "body = str.encode(json.dumps(data))\n",
        "\n",
        "#Set the content type and authentication for the request\n",
        "headers = {\"Content-Type\":\"application/json\",\n",
        "           \"Authorization\":\"Bearer \" + key}\n",
        "\n",
        "#Send the request\n",
        "response = requests.post(endpoint, body, headers=headers)\n",
        "\n",
        "#If we got a valid response, display the predictions\n",
        "if response.status_code == 200:\n",
        "    y = response.json()\n",
        "    for keys, value in y.items():\n",
        "      if (keys.lower() == 'results'):\n",
        "            if len(value) > 0:\n",
        "              for key,val in value.items():\n",
        "                if \"web\" in key.lower():\n",
        "                  if len(val)==1 and type(val[0]) == dict:\n",
        "                      for k,v in val[0].items():\n",
        "                        #print(f\"key:{k}   value={v}\")\n",
        "                        if \"diabetes\" in k.lower():\n",
        "                          if v == 1:\n",
        "                             print('Diabetic')\n",
        "                          else :print(\"Not Diabetic\")\n",
        "                  else:print(val)\n",
        "            else :  print(value)\n",
        "else:\n",
        "    print(response)"
      ]
    },
    {
      "cell_type": "code",
      "source": [
        ""
      ],
      "metadata": {
        "id": "4ag5HkmsRPzv"
      },
      "execution_count": null,
      "outputs": []
    }
  ]
}