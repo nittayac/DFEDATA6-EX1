{
  "cells": [
    {
      "cell_type": "markdown",
      "metadata": {
        "id": "view-in-github",
        "colab_type": "text"
      },
      "source": [
        "<a href=\"https://colab.research.google.com/github/nittayac/DFEDATA6-EX1/blob/main/06_Python_Numpy.ipynb\" target=\"_parent\"><img src=\"https://colab.research.google.com/assets/colab-badge.svg\" alt=\"Open In Colab\"/></a>"
      ]
    },
    {
      "cell_type": "markdown",
      "metadata": {
        "id": "_85-DWZbB92k"
      },
      "source": [
        "The first thing we want to do is import numpy."
      ]
    },
    {
      "cell_type": "code",
      "execution_count": null,
      "metadata": {
        "id": "sLhEbOZtB92o"
      },
      "outputs": [],
      "source": [
        "import numpy as np\n",
        "import pandas as pd"
      ]
    },
    {
      "cell_type": "markdown",
      "metadata": {
        "id": "yKEHcNAHB92p"
      },
      "source": [
        "Let us first define a Python list containing the ages of 6 people."
      ]
    },
    {
      "cell_type": "code",
      "execution_count": null,
      "metadata": {
        "id": "aoln0VYAB92p",
        "outputId": "977f54f4-03c5-4df6-f3f2-31985eaaaac9",
        "colab": {
          "base_uri": "https://localhost:8080/"
        }
      },
      "outputs": [
        {
          "output_type": "stream",
          "name": "stdout",
          "text": [
            "[10, 5, 8, 32, 65, 43]\n"
          ]
        }
      ],
      "source": [
        "ages_list = [10, 5, 8, 32, 65, 43]\n",
        "print(ages_list)\n"
      ]
    },
    {
      "cell_type": "markdown",
      "metadata": {
        "id": "oKvNHoyxB92q"
      },
      "source": [
        "There are 3 main ways to instantiate a Numpy ndarray object. One of these is to use `np.array(<collection>)`"
      ]
    },
    {
      "cell_type": "code",
      "execution_count": null,
      "metadata": {
        "id": "nZpdn01ZB92q",
        "outputId": "111ae2f6-ec41-4160-a0e2-92098aa5afde",
        "colab": {
          "base_uri": "https://localhost:8080/"
        }
      },
      "outputs": [
        {
          "output_type": "stream",
          "name": "stdout",
          "text": [
            "<class 'numpy.ndarray'>\n",
            "[[[10  5  8 32 65 43]\n",
            "  [ 4  5  8  0  0  0]]]\n"
          ]
        }
      ],
      "source": [
        "ages = np.array(ages_list)\n",
        "print(type(ages))\n",
        "print(ages)\n"
      ]
    },
    {
      "cell_type": "code",
      "execution_count": null,
      "metadata": {
        "id": "qSeRMnFhB92q",
        "outputId": "f684422a-6bc1-415f-fe80-8549ccb9f451",
        "colab": {
          "base_uri": "https://localhost:8080/"
        }
      },
      "outputs": [
        {
          "output_type": "stream",
          "name": "stdout",
          "text": [
            "[[[10  5  8 32 65 43]\n",
            "  [ 4  5  8  0  0  0]]]\n",
            "Size:\t 12\n",
            "Shape:\t (1, 2, 6)\n"
          ]
        }
      ],
      "source": [
        "print(ages)\n",
        "print(\"Size:\\t\" , ages.size)\n",
        "print(\"Shape:\\t\", ages.shape)\n",
        "\n",
        "\n"
      ]
    },
    {
      "cell_type": "code",
      "execution_count": null,
      "metadata": {
        "scrolled": true,
        "id": "9m1Ld3p4B92r",
        "outputId": "98292ae3-8966-4881-cb6e-50eae8d430a3",
        "colab": {
          "base_uri": "https://localhost:8080/"
        }
      },
      "outputs": [
        {
          "output_type": "stream",
          "name": "stdout",
          "text": [
            "[0. 0. 0. 0. 0.]\n"
          ]
        }
      ],
      "source": [
        "zeroArr = np.zeros(5)\n",
        "print(zeroArr)"
      ]
    },
    {
      "cell_type": "markdown",
      "metadata": {
        "id": "PtoZoXhtB92s"
      },
      "source": [
        "### Multi-dim"
      ]
    },
    {
      "cell_type": "markdown",
      "metadata": {
        "id": "x2QCr9vUB92t"
      },
      "source": [
        "Now let us define a new list containing the weights of these 6 people."
      ]
    },
    {
      "cell_type": "code",
      "execution_count": null,
      "metadata": {
        "id": "cE7prYJbB92t"
      },
      "outputs": [],
      "source": [
        "weight_list = [32, 18, 26, 60, 55, 65]"
      ]
    },
    {
      "cell_type": "markdown",
      "metadata": {
        "id": "ypV0D197B92t"
      },
      "source": [
        "Now, we define an ndarray containing all fo this information, and again print the size and shape of the array."
      ]
    },
    {
      "cell_type": "code",
      "execution_count": null,
      "metadata": {
        "id": "g3qTpo14B92u",
        "outputId": "53c202a9-f961-4561-915d-4102371edd7c",
        "colab": {
          "base_uri": "https://localhost:8080/"
        }
      },
      "outputs": [
        {
          "output_type": "stream",
          "name": "stdout",
          "text": [
            "People:\t [[10  5  8 32 65 43]\n",
            " [32 18 26 60 55 65]]\n",
            "Size:\t 12\n",
            "Shape:\t (2, 6)\n"
          ]
        }
      ],
      "source": [
        "people = np.array([ages_list, weight_list])\n",
        "\n",
        "print(\"People:\\t\" , people)\n",
        "print(\"Size:\\t\" , people.size)\n",
        "print(\"Shape:\\t\", people.shape)"
      ]
    },
    {
      "cell_type": "code",
      "execution_count": null,
      "metadata": {
        "id": "AQQY2YjdB92u",
        "outputId": "f6983460-934d-461a-a575-28810608c466",
        "colab": {
          "base_uri": "https://localhost:8080/"
        }
      },
      "outputs": [
        {
          "output_type": "stream",
          "name": "stdout",
          "text": [
            "People:\t [[10]\n",
            " [ 5]\n",
            " [ 8]\n",
            " [32]\n",
            " [65]\n",
            " [43]\n",
            " [32]\n",
            " [18]\n",
            " [26]\n",
            " [60]\n",
            " [55]\n",
            " [65]]\n",
            "Size:\t 12\n",
            "Shape:\t (12, 1)\n"
          ]
        }
      ],
      "source": [
        "people = people.reshape(12,1)\n",
        "print(\"People:\\t\" , people)\n",
        "print(\"Size:\\t\" , people.size)\n",
        "print(\"Shape:\\t\", people.shape)"
      ]
    },
    {
      "cell_type": "markdown",
      "metadata": {
        "id": "qpYJl33jB92u"
      },
      "source": [
        "###### Note: The new shape must be the same \"size\" as the old shape"
      ]
    },
    {
      "cell_type": "markdown",
      "metadata": {
        "id": "we6IGWhuB92u"
      },
      "source": [
        "### Exercise\n",
        "\n",
        "* Generate a 1D numpy array with the values [7, 9, 65, 33, 85, 99]\n",
        "\n",
        "* Generate a matrix (2D numpy array) of the values:\n",
        "\n",
        "\\begin{align}\n",
        "  \\mathbf{A} =\n",
        "  \\begin{pmatrix}\n",
        "    1 & 2 & 4 \\\\\n",
        "    2 & 3 & 0 \\\\\n",
        "    0 & 5 & 1\n",
        "  \\end{pmatrix}\n",
        "\\end{align}\n",
        "\n",
        "* Change the dimensions of this array to another permitted shape"
      ]
    },
    {
      "cell_type": "code",
      "source": [
        "#Generate a 1D numpy array with the values [7, 9, 65, 33, 85, 99]\n",
        "\n",
        "arr1 = np.array([1,2,0,2,3,5,4,0,1])\n",
        "print(arr1)\n",
        "print(arr1.shape)\n",
        "print()\n",
        "\n",
        "\n",
        "#Generate a matrix (2D numpy array) of the values:\n",
        "rearr = arr1.reshape(3,3)\n",
        "print(rearr)\n",
        "print()\n",
        "\n",
        "\n",
        "\n",
        "#Change the dimensions of this array to another permitted shape\n",
        "print(rearr.transpose(1,0))  #change row to column\n",
        "print()\n"
      ],
      "metadata": {
        "id": "ZCqpS_AXIy6A",
        "outputId": "b182b86e-4a4f-451a-aeda-f38d2acc159c",
        "colab": {
          "base_uri": "https://localhost:8080/"
        }
      },
      "execution_count": null,
      "outputs": [
        {
          "output_type": "stream",
          "name": "stdout",
          "text": [
            "[1 2 0 2 3 5 4 0 1]\n",
            "(9,)\n",
            "\n",
            "[[1 2 0]\n",
            " [2 3 5]\n",
            " [4 0 1]]\n",
            "\n",
            "[[1 2 4]\n",
            " [2 3 0]\n",
            " [0 5 1]]\n",
            "\n"
          ]
        }
      ]
    },
    {
      "cell_type": "markdown",
      "metadata": {
        "id": "rRCVOlOPB92v"
      },
      "source": [
        "## Array Generation"
      ]
    },
    {
      "cell_type": "markdown",
      "metadata": {
        "id": "-bpHRhDiB92v"
      },
      "source": [
        "Instead of defining an array manually, we can ask numpy to do it for us.\n",
        "\n",
        "The `np.arange()` method creates a range of numbers with user defined steps between each."
      ]
    },
    {
      "cell_type": "code",
      "execution_count": null,
      "metadata": {
        "id": "5aA-78wMB92v",
        "outputId": "00fc3b86-ca42-4c99-8c1c-d61664838165",
        "colab": {
          "base_uri": "https://localhost:8080/"
        }
      },
      "outputs": [
        {
          "output_type": "execute_result",
          "data": {
            "text/plain": [
              "array([ 0,  5, 10, 15, 20, 25, 30, 35, 40, 45, 50])"
            ]
          },
          "metadata": {},
          "execution_count": 44
        }
      ],
      "source": [
        "five_times_table = np.arange(0, 55, 5)\n",
        "five_times_table"
      ]
    },
    {
      "cell_type": "markdown",
      "metadata": {
        "id": "0RN-W8LwB92w"
      },
      "source": [
        "The `np.linspace()` method will produce a range of evenly spaced values, starting, ending, and taking as many steps as you specify."
      ]
    },
    {
      "cell_type": "code",
      "execution_count": null,
      "metadata": {
        "id": "rCxCq-qmB92w",
        "outputId": "a9a92c53-ebbe-4cd3-bf30-339c5e679377",
        "colab": {
          "base_uri": "https://localhost:8080/"
        }
      },
      "outputs": [
        {
          "output_type": "stream",
          "name": "stdout",
          "text": [
            "[ 0.  5. 10. 15. 20. 25. 30. 35. 40. 45. 50.]\n"
          ]
        }
      ],
      "source": [
        "five_spaced = np.linspace(0,50,11)\n",
        "print(five_spaced)"
      ]
    },
    {
      "cell_type": "markdown",
      "metadata": {
        "id": "PnY5fhuiB92w"
      },
      "source": [
        "The `.repeat()` method will repeat an object you pas a specified number of times."
      ]
    },
    {
      "cell_type": "code",
      "execution_count": null,
      "metadata": {
        "id": "jUO6Tx7OB92w",
        "outputId": "cf9b37d3-8199-4db9-d8f5-fe665ad1999b",
        "colab": {
          "base_uri": "https://localhost:8080/"
        }
      },
      "outputs": [
        {
          "output_type": "stream",
          "name": "stdout",
          "text": [
            "[2 2 2 2 2 2 2 2 2 2]\n"
          ]
        }
      ],
      "source": [
        "twoArr = np.repeat(2, 10)\n",
        "print(twoArr)"
      ]
    },
    {
      "cell_type": "markdown",
      "metadata": {
        "id": "ItvFVRwcB92x"
      },
      "source": [
        "The `np.eye()` functions will create an identity matrix/array for us."
      ]
    },
    {
      "cell_type": "code",
      "execution_count": null,
      "metadata": {
        "id": "VkqFG0K5B92x",
        "outputId": "c663a889-027f-4b44-f75f-4230fbcdd0ec",
        "colab": {
          "base_uri": "https://localhost:8080/"
        }
      },
      "outputs": [
        {
          "output_type": "stream",
          "name": "stdout",
          "text": [
            "[[1. 0. 0. 0. 0. 0.]\n",
            " [0. 1. 0. 0. 0. 0.]\n",
            " [0. 0. 1. 0. 0. 0.]\n",
            " [0. 0. 0. 1. 0. 0.]\n",
            " [0. 0. 0. 0. 1. 0.]\n",
            " [0. 0. 0. 0. 0. 1.]]\n"
          ]
        }
      ],
      "source": [
        "identity_matrix = np.eye(6)\n",
        "print(identity_matrix)"
      ]
    },
    {
      "cell_type": "markdown",
      "metadata": {
        "id": "Hmeg_MT6B92x"
      },
      "source": [
        "# Operations"
      ]
    },
    {
      "cell_type": "markdown",
      "metadata": {
        "id": "CWYstMA9B92x"
      },
      "source": [
        "There are many, many operations which we can perform on arrays. Below, we demonstrate a few."
      ]
    },
    {
      "cell_type": "markdown",
      "metadata": {
        "id": "drkVi7PSB92x"
      },
      "source": [
        "What is happening in each line?"
      ]
    },
    {
      "cell_type": "code",
      "execution_count": null,
      "metadata": {
        "id": "vBwbfPVpB92x",
        "outputId": "1a1a4879-4ff1-4d1c-9e7c-0f870c48cb55",
        "colab": {
          "base_uri": "https://localhost:8080/"
        }
      },
      "outputs": [
        {
          "output_type": "execute_result",
          "data": {
            "text/plain": [
              "array([ 0,  5, 10, 15, 20, 25, 30, 35, 40, 45, 50])"
            ]
          },
          "metadata": {},
          "execution_count": 48
        }
      ],
      "source": [
        "five_times_table"
      ]
    },
    {
      "cell_type": "code",
      "execution_count": null,
      "metadata": {
        "scrolled": true,
        "id": "hG6McK1wB92y",
        "outputId": "3efc397d-9ade-481b-c296-aa276104ce2c",
        "colab": {
          "base_uri": "https://localhost:8080/"
        }
      },
      "outputs": [
        {
          "output_type": "stream",
          "name": "stdout",
          "text": [
            "1: [  0  10  20  30  40  50  60  70  80  90 100]\n",
            "2: [10 15 20 25 30 35 40 45 50 55 60]\n",
            "3: [-1  4  9 14 19 24 29 34 39 44 49]\n",
            "4: [ 0.  1.  2.  3.  4.  5.  6.  7.  8.  9. 10.]\n",
            "5: [   0   25  100  225  400  625  900 1225 1600 2025 2500]\n",
            "6: [ True  True  True  True False False False False False False False]\n"
          ]
        }
      ],
      "source": [
        "print(\"1:\", 2 * five_times_table)\n",
        "print(\"2:\", 10 + five_times_table)\n",
        "print(\"3:\", five_times_table - 1)\n",
        "print(\"4:\", five_times_table/5)\n",
        "print(\"5:\", five_times_table **2)\n",
        "print(\"6:\", five_times_table < 20)"
      ]
    },
    {
      "cell_type": "markdown",
      "metadata": {
        "id": "_3KH5UwwB92y"
      },
      "source": [
        "### Speed Test"
      ]
    },
    {
      "cell_type": "markdown",
      "metadata": {
        "id": "4qEEGK9XB92y"
      },
      "source": [
        "If we compare the speed at which we can do these operations compared to core python, we will notice a substantial difference."
      ]
    },
    {
      "cell_type": "code",
      "execution_count": null,
      "metadata": {
        "scrolled": true,
        "id": "Qpd-KpDbB92y"
      },
      "outputs": [],
      "source": [
        "fives_list = list(range(0,5001,5))\n",
        "fives_list"
      ]
    },
    {
      "cell_type": "code",
      "execution_count": null,
      "metadata": {
        "id": "9mnvIpgBB92y",
        "outputId": "fd72fca8-bc4e-4e6b-baad-5cae33285cea",
        "colab": {
          "base_uri": "https://localhost:8080/"
        }
      },
      "outputs": [
        {
          "output_type": "execute_result",
          "data": {
            "text/plain": [
              "array([   0,    5,   10, ..., 4990, 4995, 5000])"
            ]
          },
          "metadata": {},
          "execution_count": 51
        }
      ],
      "source": [
        "five_times_table_lge = np.arange(0,5001,5)\n",
        "five_times_table_lge"
      ]
    },
    {
      "cell_type": "code",
      "execution_count": null,
      "metadata": {
        "id": "ZR8KyCS2B92y",
        "outputId": "9ab3db91-e4ec-4e12-cf35-f60916427cde",
        "colab": {
          "base_uri": "https://localhost:8080/"
        }
      },
      "outputs": [
        {
          "output_type": "stream",
          "name": "stdout",
          "text": [
            "The slowest run took 18.20 times longer than the fastest. This could mean that an intermediate result is being cached.\n",
            "1000000 loops, best of 5: 1.69 µs per loop\n"
          ]
        }
      ],
      "source": [
        "%timeit five_times_table_lge + 5"
      ]
    },
    {
      "cell_type": "code",
      "execution_count": null,
      "metadata": {
        "id": "E-dH_AaUB92z",
        "outputId": "dd43352d-53de-4a08-9dd6-cd768fafb780",
        "colab": {
          "base_uri": "https://localhost:8080/"
        }
      },
      "outputs": [
        {
          "output_type": "stream",
          "name": "stdout",
          "text": [
            "10000 loops, best of 5: 50.3 µs per loop\n"
          ]
        }
      ],
      "source": [
        "%timeit [e + 5 for e in fives_list]"
      ]
    },
    {
      "cell_type": "markdown",
      "metadata": {
        "id": "Iqpqt7y6B92z"
      },
      "source": [
        "Boolean string operations can also be performed on ndarrays."
      ]
    },
    {
      "cell_type": "code",
      "execution_count": null,
      "metadata": {
        "id": "uJFu2uAkB92z",
        "outputId": "45c8b4a1-638c-44f9-d8bb-6738ee759df9",
        "colab": {
          "base_uri": "https://localhost:8080/"
        }
      },
      "outputs": [
        {
          "output_type": "stream",
          "name": "stdout",
          "text": [
            "[False False False False False]\n",
            "False\n"
          ]
        },
        {
          "output_type": "execute_result",
          "data": {
            "text/plain": [
              "[True, True, True, True, False]"
            ]
          },
          "metadata": {},
          "execution_count": 55
        }
      ],
      "source": [
        "words = np.array([\"ten\", \"nine\", \"eight\", \"seven\", \"six\"])\n",
        "\n",
        "print(np.isin(words, 'e'))\n",
        "\n",
        "print(\"e\" in words)\n",
        "[\"e\" in word for word in words]"
      ]
    },
    {
      "cell_type": "markdown",
      "metadata": {
        "id": "dXa5zfelB92z"
      },
      "source": [
        "# Transpose"
      ]
    },
    {
      "cell_type": "code",
      "execution_count": null,
      "metadata": {
        "id": "ScJjgxYnB92z",
        "outputId": "857ab6cf-1cf2-4274-88bb-b2d6adcde135",
        "colab": {
          "base_uri": "https://localhost:8080/"
        }
      },
      "outputs": [
        {
          "output_type": "stream",
          "name": "stdout",
          "text": [
            "[[10  5  8 32 65 43]\n",
            " [32 18 26 60 55 65]] \n",
            "\n",
            "[[10 32]\n",
            " [ 5 18]\n",
            " [ 8 26]\n",
            " [32 60]\n",
            " [65 55]\n",
            " [43 65]]\n"
          ]
        }
      ],
      "source": [
        "people.shape = (2, 6)\n",
        "print(people, \"\\n\")\n",
        "print(people.T)"
      ]
    },
    {
      "cell_type": "markdown",
      "metadata": {
        "id": "FugF5VoNB921"
      },
      "source": [
        "# Data Types"
      ]
    },
    {
      "cell_type": "markdown",
      "metadata": {
        "id": "0doL3TKvB921"
      },
      "source": [
        "As previously mentioned, ndarrays can only have one data type. If we want to obtain or change this, we use the `.dtype` attribute."
      ]
    },
    {
      "cell_type": "code",
      "execution_count": null,
      "metadata": {
        "id": "f-VkNE5eB921",
        "outputId": "7dd0cf8d-7a48-47dc-d7cd-1c6e925bb8c0",
        "colab": {
          "base_uri": "https://localhost:8080/"
        }
      },
      "outputs": [
        {
          "output_type": "execute_result",
          "data": {
            "text/plain": [
              "dtype('int64')"
            ]
          },
          "metadata": {},
          "execution_count": 57
        }
      ],
      "source": [
        "people.dtype"
      ]
    },
    {
      "cell_type": "markdown",
      "metadata": {
        "id": "RdVpWjciB921"
      },
      "source": [
        "What is the data type of the below ndarray?"
      ]
    },
    {
      "cell_type": "code",
      "execution_count": null,
      "metadata": {
        "id": "lYcjnSS4B921",
        "outputId": "fdb97dea-ebfb-4f94-aefe-6d1133476374",
        "colab": {
          "base_uri": "https://localhost:8080/"
        }
      },
      "outputs": [
        {
          "output_type": "execute_result",
          "data": {
            "text/plain": [
              "array(['10', '5', '8', '32', '65', '43'], dtype='<U21')"
            ]
          },
          "metadata": {},
          "execution_count": 58
        }
      ],
      "source": [
        "ages_with_strings = np.array([10, 5, 8, '32', '65', '43'])\n",
        "ages_with_strings"
      ]
    },
    {
      "cell_type": "markdown",
      "metadata": {
        "id": "NEfGhYNbB921"
      },
      "source": [
        "What is the dtype of this array?"
      ]
    },
    {
      "cell_type": "code",
      "execution_count": null,
      "metadata": {
        "id": "Bwz_NLdIB921",
        "outputId": "8fbc262c-c1e4-459c-c726-0230d648e077",
        "colab": {
          "base_uri": "https://localhost:8080/"
        }
      },
      "outputs": [
        {
          "output_type": "execute_result",
          "data": {
            "text/plain": [
              "array([10,  5,  8, 32, 65, 43], dtype=int32)"
            ]
          },
          "metadata": {},
          "execution_count": 59
        }
      ],
      "source": [
        "ages_with_strings = np.array([10, 5, 8, '32', '65', '43'], dtype='int32')\n",
        "ages_with_strings"
      ]
    },
    {
      "cell_type": "markdown",
      "metadata": {
        "id": "iFsv-yuAB921"
      },
      "source": [
        "What do you think has happened here?"
      ]
    },
    {
      "cell_type": "code",
      "execution_count": null,
      "metadata": {
        "id": "CyZGXyGYB922",
        "outputId": "2e01eb64-2c74-499f-933a-c150fa0e25b6",
        "colab": {
          "base_uri": "https://localhost:8080/"
        }
      },
      "outputs": [
        {
          "output_type": "stream",
          "name": "stdout",
          "text": [
            "['10' '5' '8' '32' '65' '43']\n"
          ]
        }
      ],
      "source": [
        "ages_with_strings = np.array([10, 5, 8, '32', '65', '43'])\n",
        "print(ages_with_strings)"
      ]
    },
    {
      "cell_type": "code",
      "execution_count": null,
      "metadata": {
        "id": "CuZYwtmSB922",
        "outputId": "73f25d77-6fdf-4d5e-adf1-7ce68388a091",
        "colab": {
          "base_uri": "https://localhost:8080/"
        }
      },
      "outputs": [
        {
          "output_type": "stream",
          "name": "stdout",
          "text": [
            "[49 48  0  0  0  0  0  0  0  0  0  0  0  0  0  0  0  0  0  0  0 53  0  0\n",
            "  0  0  0  0  0  0  0  0  0  0  0  0  0  0  0  0  0  0 56  0  0  0  0  0\n",
            "  0  0  0  0  0  0  0  0  0  0  0  0  0  0  0 51 50  0  0  0  0  0  0  0\n",
            "  0  0  0  0  0  0  0  0  0  0  0  0 54 53  0  0  0  0  0  0  0  0  0  0\n",
            "  0  0  0  0  0  0  0  0  0 52 51  0  0  0  0  0  0  0  0  0  0  0  0  0\n",
            "  0  0  0  0  0  0]\n"
          ]
        }
      ],
      "source": [
        "ages_with_strings.dtype = 'int32'\n",
        "print(ages_with_strings)"
      ]
    },
    {
      "cell_type": "code",
      "execution_count": null,
      "metadata": {
        "id": "ysbJA0x6B922",
        "outputId": "4f6d4474-a150-4828-bab2-c63734f3dd70",
        "colab": {
          "base_uri": "https://localhost:8080/"
        }
      },
      "outputs": [
        {
          "output_type": "execute_result",
          "data": {
            "text/plain": [
              "126"
            ]
          },
          "metadata": {},
          "execution_count": 62
        }
      ],
      "source": [
        "ages_with_strings.size"
      ]
    },
    {
      "cell_type": "code",
      "execution_count": null,
      "metadata": {
        "id": "lvdcffH8B922",
        "outputId": "4f16249d-72d6-4390-a5a3-7258943f4fd7",
        "colab": {
          "base_uri": "https://localhost:8080/"
        }
      },
      "outputs": [
        {
          "output_type": "execute_result",
          "data": {
            "text/plain": [
              "6.0"
            ]
          },
          "metadata": {},
          "execution_count": 63
        }
      ],
      "source": [
        "ages_with_strings.size/21"
      ]
    },
    {
      "cell_type": "code",
      "execution_count": null,
      "metadata": {
        "id": "XsDi6dJEB922",
        "outputId": "7130f074-dd14-4aca-d16c-e1aad77f4d2b",
        "colab": {
          "base_uri": "https://localhost:8080/"
        }
      },
      "outputs": [
        {
          "output_type": "execute_result",
          "data": {
            "text/plain": [
              "6"
            ]
          },
          "metadata": {},
          "execution_count": 64
        }
      ],
      "source": [
        "np.array([10, 5, 8, '32', '65', '43']).size"
      ]
    },
    {
      "cell_type": "markdown",
      "metadata": {
        "id": "rBX1MSboB922"
      },
      "source": [
        "The correct way to have changed the data type of the ndarray would have been to use the `.astype()` method, demonstrated below."
      ]
    },
    {
      "cell_type": "code",
      "execution_count": null,
      "metadata": {
        "id": "bASVsyQHB922",
        "outputId": "ecf8a8eb-498f-44c7-e9cf-a99dd9ff22d0",
        "colab": {
          "base_uri": "https://localhost:8080/"
        }
      },
      "outputs": [
        {
          "output_type": "stream",
          "name": "stdout",
          "text": [
            "['10' '5' '8' '32' '65' '43']\n",
            "[10  5  8 32 65 43]\n"
          ]
        }
      ],
      "source": [
        "ages_with_strings = np.array([10, 5, 8, '32', '65', '43'])\n",
        "print(ages_with_strings)\n",
        "print(ages_with_strings.astype('int32'))"
      ]
    },
    {
      "cell_type": "markdown",
      "metadata": {
        "id": "KLKW86O3B923"
      },
      "source": [
        "### Exercise\n",
        "\n",
        "* #### Create an array of string numbers, but use dtype to make it an array of floats.\n",
        "* #### Transpose the matrix, printing the new size and shape.\n",
        "* #### Use the .astype() method to convert the array to boolean."
      ]
    },
    {
      "cell_type": "code",
      "source": [
        "#Create an array of string numbers, but use dtype to make it an array of floats.\n",
        "#arrstr = np.array([\"1\",\"2\",\"3\",\"4\",\"5\",\"6\",\"7\",\"8\",\"9\"],dtype='int64')\n",
        "arrstr = np.array([\"1\",\"2\",\"3\",\"4\",\"5\",\"6\",\"7\",\"8\",\"9\",\"10\",\"11\",\"12\"])\n",
        "print(arrstr)\n",
        "print()\n",
        "\n",
        "\n",
        "print(\"------float64---------\")\n",
        "print(arrstr.astype('float64'))\n",
        "print(arrstr.shape)\n",
        "print()\n",
        "\n",
        "\n",
        "\n",
        "print(\"------reshape(4,3)---------\")\n",
        "arrnew = arrstr.astype('float64').reshape(4,3)\n",
        "print(arrnew)\n",
        "print()\n",
        "\n",
        "\n",
        "\n",
        "print(\"------transpose---------\")\n",
        "arrnew.transpose\n",
        "print()\n",
        "arrnew.T\n",
        "\n",
        "\n",
        "\n",
        "\n"
      ],
      "metadata": {
        "id": "a-N-l9IqQJwg",
        "outputId": "8968ab20-8baa-44e3-824c-8de1de98c4db",
        "colab": {
          "base_uri": "https://localhost:8080/"
        }
      },
      "execution_count": null,
      "outputs": [
        {
          "output_type": "stream",
          "name": "stdout",
          "text": [
            "['1' '2' '3' '4' '5' '6' '7' '8' '9' '10' '11' '12']\n",
            "\n",
            "------float64---------\n",
            "[ 1.  2.  3.  4.  5.  6.  7.  8.  9. 10. 11. 12.]\n",
            "(12,)\n",
            "\n",
            "------reshape(4,3)---------\n",
            "[[ 1.  2.  3.]\n",
            " [ 4.  5.  6.]\n",
            " [ 7.  8.  9.]\n",
            " [10. 11. 12.]]\n",
            "\n",
            "------transpose---------\n",
            "\n"
          ]
        },
        {
          "output_type": "execute_result",
          "data": {
            "text/plain": [
              "array([[ 1.,  4.,  7., 10.],\n",
              "       [ 2.,  5.,  8., 11.],\n",
              "       [ 3.,  6.,  9., 12.]])"
            ]
          },
          "metadata": {},
          "execution_count": 84
        }
      ]
    },
    {
      "cell_type": "markdown",
      "metadata": {
        "id": "ppliiF7JB923"
      },
      "source": [
        "## Array Slicing Operations"
      ]
    },
    {
      "cell_type": "markdown",
      "metadata": {
        "id": "rj8K9X80B923"
      },
      "source": [
        "As before, we can use square brackets and indices to access individual values, and the colon operator to slice the array."
      ]
    },
    {
      "cell_type": "code",
      "execution_count": null,
      "metadata": {
        "id": "f3c61VV5B923",
        "outputId": "8a6b3f76-9cc7-4f6e-816b-1ba9e21ae2da",
        "colab": {
          "base_uri": "https://localhost:8080/"
        }
      },
      "outputs": [
        {
          "output_type": "execute_result",
          "data": {
            "text/plain": [
              "array([ 0,  5, 10, 15, 20, 25, 30, 35, 40, 45, 50])"
            ]
          },
          "metadata": {},
          "execution_count": 85
        }
      ],
      "source": [
        "five_times_table"
      ]
    },
    {
      "cell_type": "code",
      "execution_count": null,
      "metadata": {
        "id": "qD_xmelYB923",
        "outputId": "182f2933-637f-4d5f-a3fa-759efe1112f7",
        "colab": {
          "base_uri": "https://localhost:8080/"
        }
      },
      "outputs": [
        {
          "output_type": "execute_result",
          "data": {
            "text/plain": [
              "0"
            ]
          },
          "metadata": {},
          "execution_count": 86
        }
      ],
      "source": [
        "five_times_table[0]"
      ]
    },
    {
      "cell_type": "code",
      "execution_count": null,
      "metadata": {
        "scrolled": true,
        "id": "J65DDOd5B923",
        "outputId": "950ad9c0-e23e-45d1-90fb-6088ee108f1a",
        "colab": {
          "base_uri": "https://localhost:8080/"
        }
      },
      "outputs": [
        {
          "output_type": "execute_result",
          "data": {
            "text/plain": [
              "50"
            ]
          },
          "metadata": {},
          "execution_count": 87
        }
      ],
      "source": [
        "five_times_table[-1]"
      ]
    },
    {
      "cell_type": "code",
      "execution_count": null,
      "metadata": {
        "id": "KfWCyFU6B923",
        "outputId": "0a78d600-6101-455d-f57b-79bc7cf29b72",
        "colab": {
          "base_uri": "https://localhost:8080/"
        }
      },
      "outputs": [
        {
          "output_type": "execute_result",
          "data": {
            "text/plain": [
              "array([ 0,  5, 10, 15])"
            ]
          },
          "metadata": {},
          "execution_count": 88
        }
      ],
      "source": [
        "five_times_table[:4]"
      ]
    },
    {
      "cell_type": "code",
      "execution_count": null,
      "metadata": {
        "id": "0lGGO6XrB923",
        "outputId": "121ca766-dfd4-4987-dc9d-d466092297cb",
        "colab": {
          "base_uri": "https://localhost:8080/"
        }
      },
      "outputs": [
        {
          "output_type": "execute_result",
          "data": {
            "text/plain": [
              "array([20, 25, 30, 35, 40, 45, 50])"
            ]
          },
          "metadata": {},
          "execution_count": 89
        }
      ],
      "source": [
        "five_times_table[4:]"
      ]
    },
    {
      "cell_type": "markdown",
      "metadata": {
        "id": "AhXfKBBtB924"
      },
      "source": [
        "We can also slice an n-dim ndarray., specifying the slice operation accross each axis."
      ]
    },
    {
      "cell_type": "code",
      "execution_count": null,
      "metadata": {
        "id": "aGP7W05rB924",
        "outputId": "d414dfcd-076e-4e9f-ef4b-dd34ac7c6265",
        "colab": {
          "base_uri": "https://localhost:8080/"
        }
      },
      "outputs": [
        {
          "output_type": "stream",
          "name": "stdout",
          "text": [
            "[[10  5  8 32 65 43]\n",
            " [32 18 26 60 55 65]]\n"
          ]
        },
        {
          "output_type": "execute_result",
          "data": {
            "text/plain": [
              "array([[10,  5,  8],\n",
              "       [32, 18, 26]])"
            ]
          },
          "metadata": {},
          "execution_count": 90
        }
      ],
      "source": [
        "print(people)\n",
        "people[:3, :3]"
      ]
    },
    {
      "cell_type": "markdown",
      "metadata": {
        "id": "O3rszPtZB924"
      },
      "source": [
        "### Exercise\n",
        "\n",
        "* Create a numpy array with 50 zeros\n",
        "* Create a np array of 2 repeated 20 times\n",
        "* Create a numpy array from 0 to 2 $\\pi$ in steps of 0.1\n",
        "\n",
        "For one of the arrays generated:\n",
        "* Get the first five values\n",
        "* Get the last 3 values\n",
        "* Get the 4th value to the 7th value"
      ]
    },
    {
      "cell_type": "markdown",
      "metadata": {
        "id": "3yvL6IzXB924"
      },
      "source": [
        "We can reverse an array by using `.flip()` or by using the `::` operator."
      ]
    },
    {
      "cell_type": "code",
      "execution_count": null,
      "metadata": {
        "id": "CAitzqadB924",
        "outputId": "13942317-a5bd-469a-d654-69a8f9cd88a6",
        "colab": {
          "base_uri": "https://localhost:8080/"
        }
      },
      "outputs": [
        {
          "output_type": "execute_result",
          "data": {
            "text/plain": [
              "array([50, 45, 40, 35, 30, 25, 20, 15, 10,  5,  0])"
            ]
          },
          "metadata": {},
          "execution_count": 131
        }
      ],
      "source": [
        "reverse_five_times_table = np.flip(five_times_table)\n",
        "reverse_five_times_table"
      ]
    },
    {
      "cell_type": "code",
      "execution_count": null,
      "metadata": {
        "id": "_fvfqvAKB924",
        "outputId": "a68f3e3b-d14d-495c-9510-679a207ee20c",
        "colab": {
          "base_uri": "https://localhost:8080/"
        }
      },
      "outputs": [
        {
          "output_type": "stream",
          "name": "stdout",
          "text": [
            "[50 45 40 35 30 25 20 15 10  5  0]\n"
          ]
        },
        {
          "output_type": "execute_result",
          "data": {
            "text/plain": [
              "array([ 0,  5, 10, 15, 20, 25, 30, 35, 40, 45, 50])"
            ]
          },
          "metadata": {},
          "execution_count": 132
        }
      ],
      "source": [
        "reverse_five_times_table = five_times_table[-1::-1]\n",
        "print(reverse_five_times_table)\n",
        "five_times_table"
      ]
    },
    {
      "cell_type": "markdown",
      "metadata": {
        "id": "WOvrohlxB924"
      },
      "source": [
        "We can also use the `::` operator to select steps of the original array."
      ]
    },
    {
      "cell_type": "code",
      "execution_count": null,
      "metadata": {
        "id": "kNs8cDryB924",
        "outputId": "b4f9667e-b4e2-47ce-cac2-da836428b7d8",
        "colab": {
          "base_uri": "https://localhost:8080/"
        }
      },
      "outputs": [
        {
          "output_type": "execute_result",
          "data": {
            "text/plain": [
              "array([ 0, 15, 30, 45])"
            ]
          },
          "metadata": {},
          "execution_count": 133
        }
      ],
      "source": [
        "five_times_table[0::3] #Every 3rd element starting from 0"
      ]
    },
    {
      "cell_type": "code",
      "source": [
        "from numpy.core.numeric import array_equiv\n",
        "\n",
        "def createlist(range1,range2):\n",
        "  arr =[]\n",
        "  for i in range(range1,range2):\n",
        "    arr.append(i)\n",
        "  arr = np.array(arr)\n",
        "  return arr\n",
        "\n",
        "\n",
        "\n",
        "#Create a numpy array with 50 zeros\n",
        "arrazero = np.zeros(20)\n",
        "\n",
        "#Create a np array of 2 repeated 20 times\n",
        "arrrep2 = np.repeat(2,20)\n",
        "arrrep3 = np.repeat(3,20)\n",
        "\n",
        "\n",
        "\n",
        "#arrrep4,arrrep5,arrrep6,arrrep7 = [],[],[],[];\n",
        "arrrep4,arrrep5,arrrep6,arrrep7 = createlist(-20,0),createlist(0,20),createlist(20,40),createlist(40,60)\n",
        "\n",
        "tuples = zip(arrrep4,arrrep5,arrrep6,arrrep7)\n",
        "tuples = list(tuples)\n",
        "print(tuples)\n",
        "\n",
        "#print(arrrep4)\n",
        "#print(arrrep5)\n",
        "#print(arrrep6)\n",
        "#print(arrrep7)\n",
        "\n",
        "ls1 = np.array(list(tuples))\n",
        "print(ls1)\n",
        "\n",
        "\n",
        "\n",
        "#Create a numpy array from 0 to 2  π  in steps of 0.1\n",
        "pi= 3.14 *2\n",
        "arrpi = np.arange(0,pi,0.1)\n",
        "print(arrpi)\n",
        "print()\n",
        "\n",
        "\n",
        "#Get the first five values\n",
        "print()\n",
        "print(\"#####Get the first five values\")\n",
        "print(ls1[:5])\n",
        "\n",
        "\n",
        "#Get the last 3 values\n",
        "print()\n",
        "print(\"#####Get the last 3 values\")\n",
        "print(ls1[len(ls1)-3:])\n",
        "\n",
        "\n",
        "#Get the 4th value to the 7th value\n",
        "print()\n",
        "print(\"#####Get the 4th value to the 7th value\")\n",
        "print(ls1[4:7])\n"
      ],
      "metadata": {
        "id": "noE3YGGFXZtF",
        "outputId": "0c7b52de-5535-4aa6-d8eb-befff4e38dab",
        "colab": {
          "base_uri": "https://localhost:8080/"
        }
      },
      "execution_count": null,
      "outputs": [
        {
          "output_type": "stream",
          "name": "stdout",
          "text": [
            "[(-20, 0, 20, 40), (-19, 1, 21, 41), (-18, 2, 22, 42), (-17, 3, 23, 43), (-16, 4, 24, 44), (-15, 5, 25, 45), (-14, 6, 26, 46), (-13, 7, 27, 47), (-12, 8, 28, 48), (-11, 9, 29, 49), (-10, 10, 30, 50), (-9, 11, 31, 51), (-8, 12, 32, 52), (-7, 13, 33, 53), (-6, 14, 34, 54), (-5, 15, 35, 55), (-4, 16, 36, 56), (-3, 17, 37, 57), (-2, 18, 38, 58), (-1, 19, 39, 59)]\n",
            "[[-20   0  20  40]\n",
            " [-19   1  21  41]\n",
            " [-18   2  22  42]\n",
            " [-17   3  23  43]\n",
            " [-16   4  24  44]\n",
            " [-15   5  25  45]\n",
            " [-14   6  26  46]\n",
            " [-13   7  27  47]\n",
            " [-12   8  28  48]\n",
            " [-11   9  29  49]\n",
            " [-10  10  30  50]\n",
            " [ -9  11  31  51]\n",
            " [ -8  12  32  52]\n",
            " [ -7  13  33  53]\n",
            " [ -6  14  34  54]\n",
            " [ -5  15  35  55]\n",
            " [ -4  16  36  56]\n",
            " [ -3  17  37  57]\n",
            " [ -2  18  38  58]\n",
            " [ -1  19  39  59]]\n",
            "[0.  0.1 0.2 0.3 0.4 0.5 0.6 0.7 0.8 0.9 1.  1.1 1.2 1.3 1.4 1.5 1.6 1.7\n",
            " 1.8 1.9 2.  2.1 2.2 2.3 2.4 2.5 2.6 2.7 2.8 2.9 3.  3.1 3.2 3.3 3.4 3.5\n",
            " 3.6 3.7 3.8 3.9 4.  4.1 4.2 4.3 4.4 4.5 4.6 4.7 4.8 4.9 5.  5.1 5.2 5.3\n",
            " 5.4 5.5 5.6 5.7 5.8 5.9 6.  6.1 6.2]\n",
            "\n",
            "\n",
            "#####Get the first five values\n",
            "[[-20   0  20  40]\n",
            " [-19   1  21  41]\n",
            " [-18   2  22  42]\n",
            " [-17   3  23  43]\n",
            " [-16   4  24  44]]\n",
            "\n",
            "#####Get the last 3 values\n",
            "[[-3 17 37 57]\n",
            " [-2 18 38 58]\n",
            " [-1 19 39 59]]\n",
            "\n",
            "#####Get the 4th value to the 7th value\n",
            "[[-16   4  24  44]\n",
            " [-15   5  25  45]\n",
            " [-14   6  26  46]]\n"
          ]
        }
      ]
    },
    {
      "cell_type": "markdown",
      "metadata": {
        "id": "iSF0n0J5B924"
      },
      "source": [
        "### Exercise\n",
        "Take one of the arrays you defined and\n",
        "* #### Reverse it\n",
        "* #### Only keep every 4th element.\n",
        "* #### Get every 2nd element, starting from the last and moving backwards."
      ]
    },
    {
      "cell_type": "code",
      "source": [
        "#Reverse it\n",
        "list2 = ls1[:5]\n",
        "print(list2)\n",
        "print()\n",
        "print(list2[-1::-1])  #move every row  (:: = every)\n",
        "print()\n",
        "print(np.flip(list2)) #move every row and every column\n",
        "\n",
        "\n",
        "#Only keep every 4th element start from 0\n",
        "print()\n",
        "print(list2[0::4])\n",
        "\n",
        "#Get every 2nd element, starting from the last and moving backwards.\n",
        "print()\n",
        "print(list2[-1::-2])\n"
      ],
      "metadata": {
        "id": "J1AhVnEwnSYw",
        "outputId": "49eaa9cd-5628-4a1e-8549-4742640fb939",
        "colab": {
          "base_uri": "https://localhost:8080/"
        }
      },
      "execution_count": 169,
      "outputs": [
        {
          "output_type": "stream",
          "name": "stdout",
          "text": [
            "[[-20   0  20  40]\n",
            " [-19   1  21  41]\n",
            " [-18   2  22  42]\n",
            " [-17   3  23  43]\n",
            " [-16   4  24  44]]\n",
            "\n",
            "[[-16   4  24  44]\n",
            " [-17   3  23  43]\n",
            " [-18   2  22  42]\n",
            " [-19   1  21  41]\n",
            " [-20   0  20  40]]\n",
            "\n",
            "[[ 44  24   4 -16]\n",
            " [ 43  23   3 -17]\n",
            " [ 42  22   2 -18]\n",
            " [ 41  21   1 -19]\n",
            " [ 40  20   0 -20]]\n",
            "\n",
            "[[-20   0  20  40]\n",
            " [-16   4  24  44]]\n",
            "\n",
            "[[-16   4  24  44]\n",
            " [-18   2  22  42]\n",
            " [-20   0  20  40]]\n"
          ]
        }
      ]
    },
    {
      "cell_type": "markdown",
      "metadata": {
        "id": "x6xMg0f_B925"
      },
      "source": [
        "# Stats"
      ]
    },
    {
      "cell_type": "code",
      "execution_count": 170,
      "metadata": {
        "id": "8ywse6LOB925",
        "outputId": "3953d261-76ae-42f7-df38-8afc1754734d",
        "colab": {
          "base_uri": "https://localhost:8080/"
        }
      },
      "outputs": [
        {
          "output_type": "execute_result",
          "data": {
            "text/plain": [
              "array([1.65, 5.99])"
            ]
          },
          "metadata": {},
          "execution_count": 170
        }
      ],
      "source": [
        "np.array([1.65432, 5.98765]).round(2)"
      ]
    },
    {
      "cell_type": "code",
      "execution_count": 171,
      "metadata": {
        "id": "zjRa4RDbB925"
      },
      "outputs": [],
      "source": [
        "nums = np.arange(0, 4, 0.2555)"
      ]
    },
    {
      "cell_type": "markdown",
      "metadata": {
        "id": "eOCmxqtXB925"
      },
      "source": [
        "### Exercise\n",
        "\n",
        "* Compute min, max, sum, mean, median, variance, and standard deviation of the above array, all to to 2 decimal places."
      ]
    },
    {
      "cell_type": "code",
      "execution_count": null,
      "metadata": {
        "id": "E2CzFoDjB925"
      },
      "outputs": [],
      "source": [
        "print(\"min = \", np.min(nums).round(2))\n",
        "print(\"max = \", np.max(nums).round(2))\n",
        "print(\"sum = \", np.sum(nums).round(2))\n",
        "print(\"mean = \", np.mean(nums).round(2))\n",
        "print(\"median = \", np.median(nums).round(2))\n",
        "print(\"var = \", np.var(nums).round(2))\n",
        "print(\"std = \", np.std(nums).round(2))"
      ]
    },
    {
      "cell_type": "code",
      "source": [
        "#Compute min, max, sum, mean, median, variance, and standard deviation of the above array, all to to 2 decimal places. \n",
        "\n",
        "df1 = pd.DataFrame(ls1,columns=[\"radius\",\"area\",\"height\",\"width\",])\n",
        "print(df1.describe())\n",
        "\n",
        "newlist =[]\n",
        "for i in range(len(ls1)):\n",
        "   for k in range(len(ls1[i])):\n",
        "     newlist.append(ls1[i][k])\n",
        "\n",
        "print()\n",
        "print(newlist)\n",
        "\n",
        "min = np.min(newlist).round(2)\n",
        "max = np.max(newlist).round(2)\n",
        "sum = np.sum(newlist).round(2)\n",
        "mean = np.mean(newlist).round(2)\n",
        "median = np.median(newlist).round(2)\n",
        "var = np.var(newlist).round(2)\n",
        "std = np.std(newlist).round(2)\n",
        "\n",
        "\n",
        "print(f\"\\tmin\\tmax\\tsumt\\tmean\\tmedian\\tvar\\tstd\")\n",
        "print(f\"\\t{min}\\t{max}\\t{sum}\\t{mean}\\t{median}\\t{var}\\t{std}\")\n"
      ],
      "metadata": {
        "id": "eOioznfbrsvI",
        "outputId": "f47c6b96-8bbe-4325-bf80-27fb991db0af",
        "colab": {
          "base_uri": "https://localhost:8080/"
        }
      },
      "execution_count": 193,
      "outputs": [
        {
          "output_type": "stream",
          "name": "stdout",
          "text": [
            "         radius      area    height     width\n",
            "count  20.00000  20.00000  20.00000  20.00000\n",
            "mean  -10.50000   9.50000  29.50000  49.50000\n",
            "std     5.91608   5.91608   5.91608   5.91608\n",
            "min   -20.00000   0.00000  20.00000  40.00000\n",
            "25%   -15.25000   4.75000  24.75000  44.75000\n",
            "50%   -10.50000   9.50000  29.50000  49.50000\n",
            "75%    -5.75000  14.25000  34.25000  54.25000\n",
            "max    -1.00000  19.00000  39.00000  59.00000\n",
            "\n",
            "[-20, 0, 20, 40, -19, 1, 21, 41, -18, 2, 22, 42, -17, 3, 23, 43, -16, 4, 24, 44, -15, 5, 25, 45, -14, 6, 26, 46, -13, 7, 27, 47, -12, 8, 28, 48, -11, 9, 29, 49, -10, 10, 30, 50, -9, 11, 31, 51, -8, 12, 32, 52, -7, 13, 33, 53, -6, 14, 34, 54, -5, 15, 35, 55, -4, 16, 36, 56, -3, 17, 37, 57, -2, 18, 38, 58, -1, 19, 39, 59]\n",
            "\tmin\tmax\tsumt\tmean\tmedian\tvar\tstd\n",
            "\t-20\t59\t1560\t19.5\t19.5\t533.25\t23.09\n"
          ]
        }
      ]
    },
    {
      "cell_type": "markdown",
      "metadata": {
        "id": "js2oOWq2B925"
      },
      "source": [
        "## Random"
      ]
    },
    {
      "cell_type": "markdown",
      "metadata": {
        "id": "i-tcFTleB925"
      },
      "source": [
        "With `np.random`, we can generate a number of types of dataset, and create training data.\n",
        "\n",
        "The below code simulates a fair coin toss."
      ]
    },
    {
      "cell_type": "code",
      "execution_count": null,
      "metadata": {
        "id": "byynCRGNB925"
      },
      "outputs": [],
      "source": [
        "flip = np.random.choice([0,1], 10)\n",
        "flip"
      ]
    },
    {
      "cell_type": "code",
      "execution_count": null,
      "metadata": {
        "id": "ve50DXgxB926"
      },
      "outputs": [],
      "source": [
        "np.random.rand(10,20,9)"
      ]
    },
    {
      "cell_type": "markdown",
      "metadata": {
        "id": "NYx4WzauB926"
      },
      "source": [
        "We can produce 1000 datapoints of a normally distributed data set by using `np.random.normal()`"
      ]
    },
    {
      "cell_type": "code",
      "execution_count": null,
      "metadata": {
        "id": "fwlJk1dXB926"
      },
      "outputs": [],
      "source": [
        "mu, sigma = 0, 0.1 # mean and standard deviation\n",
        "s = np.random.normal(mu, sigma, 1000)"
      ]
    },
    {
      "cell_type": "markdown",
      "metadata": {
        "id": "jxBhM__6B926"
      },
      "source": [
        "### Exercise\n",
        "* Simulate a six-sided dice using numpy.random.choice(), generate a list of values you would obtain from 10 throws.\n",
        "* Simulate a two-sided coin toss that is NOT fair: it is twice as likely to have head than tails.\n"
      ]
    },
    {
      "cell_type": "code",
      "execution_count": null,
      "metadata": {
        "id": "fLQ-5IrxB926"
      },
      "outputs": [],
      "source": [
        ""
      ]
    }
  ],
  "metadata": {
    "kernelspec": {
      "display_name": "Python 3",
      "language": "python",
      "name": "python3"
    },
    "language_info": {
      "codemirror_mode": {
        "name": "ipython",
        "version": 3
      },
      "file_extension": ".py",
      "mimetype": "text/x-python",
      "name": "python",
      "nbconvert_exporter": "python",
      "pygments_lexer": "ipython3",
      "version": "3.7.4"
    },
    "colab": {
      "name": "06_Python Numpy.ipynb",
      "provenance": [],
      "include_colab_link": true
    }
  },
  "nbformat": 4,
  "nbformat_minor": 0
}