{
  "nbformat": 4,
  "nbformat_minor": 0,
  "metadata": {
    "colab": {
      "name": "Untitled15.ipynb",
      "provenance": [],
      "authorship_tag": "ABX9TyPxFNlGhmajdgJ8eQXYYRmo",
      "include_colab_link": true
    },
    "kernelspec": {
      "name": "python3",
      "display_name": "Python 3"
    },
    "language_info": {
      "name": "python"
    }
  },
  "cells": [
    {
      "cell_type": "markdown",
      "metadata": {
        "id": "view-in-github",
        "colab_type": "text"
      },
      "source": [
        "<a href=\"https://colab.research.google.com/github/nittayac/DFEDATA6-EX1/blob/main/20220316_ML.ipynb\" target=\"_parent\"><img src=\"https://colab.research.google.com/assets/colab-badge.svg\" alt=\"Open In Colab\"/></a>"
      ]
    },
    {
      "cell_type": "code",
      "execution_count": 1,
      "metadata": {
        "id": "_gWNtZU27TOT"
      },
      "outputs": [],
      "source": [
        "import pandas as pd\n",
        "import numpy as np\n",
        "import sys"
      ]
    },
    {
      "cell_type": "code",
      "source": [
        "df = pd.read_csv('sample_data/cleaning_city-of-london-street - Copy.csv' ,encoding = \"ISO-8859-1\")"
      ],
      "metadata": {
        "id": "m5OZlCx17g4-"
      },
      "execution_count": 17,
      "outputs": []
    },
    {
      "cell_type": "code",
      "source": [
        "df.head()\n",
        "df.dropna()\n",
        "df.info()"
      ],
      "metadata": {
        "colab": {
          "base_uri": "https://localhost:8080/"
        },
        "id": "wV6KEt867nUL",
        "outputId": "04189873-5a99-4f43-b642-12e0742265c2"
      },
      "execution_count": 25,
      "outputs": [
        {
          "output_type": "stream",
          "name": "stdout",
          "text": [
            "<class 'pandas.core.frame.DataFrame'>\n",
            "RangeIndex: 23434 entries, 0 to 23433\n",
            "Data columns (total 12 columns):\n",
            " #   Column                 Non-Null Count  Dtype  \n",
            "---  ------                 --------------  -----  \n",
            " 0   Unnamed: 0             23434 non-null  int64  \n",
            " 1   Month                  23434 non-null  object \n",
            " 2   Reported by            23434 non-null  object \n",
            " 3   Falls within           23434 non-null  object \n",
            " 4   Longitude              23434 non-null  float64\n",
            " 5   Latitude               23434 non-null  float64\n",
            " 6   Location               23434 non-null  object \n",
            " 7   LSOA code              23434 non-null  object \n",
            " 8   LSOA name              23434 non-null  object \n",
            " 9   Crime type             23434 non-null  object \n",
            " 10  Last outcome category  23434 non-null  object \n",
            " 11  ID                     23434 non-null  int64  \n",
            "dtypes: float64(2), int64(2), object(8)\n",
            "memory usage: 2.1+ MB\n"
          ]
        }
      ]
    },
    {
      "cell_type": "code",
      "source": [
        "!pip install kmodes"
      ],
      "metadata": {
        "colab": {
          "base_uri": "https://localhost:8080/"
        },
        "id": "20c8O0es8Mh8",
        "outputId": "b711045c-e846-4473-cf08-be174be091e5"
      },
      "execution_count": 6,
      "outputs": [
        {
          "output_type": "stream",
          "name": "stdout",
          "text": [
            "Collecting kmodes\n",
            "  Downloading kmodes-0.11.1-py2.py3-none-any.whl (19 kB)\n",
            "Requirement already satisfied: joblib>=0.11 in /usr/local/lib/python3.7/dist-packages (from kmodes) (1.1.0)\n",
            "Requirement already satisfied: scipy>=0.13.3 in /usr/local/lib/python3.7/dist-packages (from kmodes) (1.4.1)\n",
            "Requirement already satisfied: scikit-learn>=0.22.0 in /usr/local/lib/python3.7/dist-packages (from kmodes) (1.0.2)\n",
            "Requirement already satisfied: numpy>=1.10.4 in /usr/local/lib/python3.7/dist-packages (from kmodes) (1.21.5)\n",
            "Requirement already satisfied: threadpoolctl>=2.0.0 in /usr/local/lib/python3.7/dist-packages (from scikit-learn>=0.22.0->kmodes) (3.1.0)\n",
            "Installing collected packages: kmodes\n",
            "Successfully installed kmodes-0.11.1\n"
          ]
        }
      ]
    },
    {
      "cell_type": "code",
      "source": [
        "from kmodes.kmodes import KModes\n",
        "from kmodes.kprototypes import KPrototypes\n",
        "\n",
        "# k-modes algorithm\n",
        "clusterer = KModes(n_clusters=14, init='Cao', n_init=10)\n",
        "labels = clusterer.fit_predict(df)\n",
        "cost = clusterer.cost_\n",
        "centroids = clusterer.cluster_centroids_"
      ],
      "metadata": {
        "id": "XSk91G4s7nvY"
      },
      "execution_count": 35,
      "outputs": []
    },
    {
      "cell_type": "code",
      "source": [
        "centroids"
      ],
      "metadata": {
        "colab": {
          "base_uri": "https://localhost:8080/"
        },
        "id": "8DBROPSJ8PyW",
        "outputId": "b52da8fd-4190-4b3f-cc6b-ccd2441aefb3"
      },
      "execution_count": 43,
      "outputs": [
        {
          "output_type": "execute_result",
          "data": {
            "text/plain": [
              "array([['10', '2019-07', 'City of London Police',\n",
              "        'City of London Police', '-0.079786', '51.517576',\n",
              "        'On or near Police Station', 'E01032739', 'City of London 001F',\n",
              "        'Other theft', 'Investigation complete; no suspect identified',\n",
              "        '10'],\n",
              "       ['0', '2019-08', 'City of London Police', 'City of London Police',\n",
              "        '-0.08162', '51.516814', \"On or near Alderman'S Walk\",\n",
              "        'E01032739', 'City of London 001F', 'Anti-social behaviour',\n",
              "        'Anti-social behaviour', '0'],\n",
              "       ['22', '2017-10', 'City of London Police',\n",
              "        'City of London Police', '-0.080376', '51.517244',\n",
              "        'On or near Supermarket', 'E01032739', 'City of London 001F',\n",
              "        'Violence and sexual offences', 'Status update unavailable',\n",
              "        '22'],\n",
              "       ['20', '2019-09', 'City of London Police',\n",
              "        'City of London Police', '-0.084967', '51.512598',\n",
              "        'On or near Bell Inn Yard', 'E01032739', 'City of London 001F',\n",
              "        'Shoplifting', 'Unable to prosecute suspect', '20'],\n",
              "       ['166', '2019-05', 'City of London Police',\n",
              "        'City of London Police', '-0.096363', '51.513377',\n",
              "        'On or near New Change', 'E01032739', 'City of London 001F',\n",
              "        'Theft from the person', 'Under investigation', '166'],\n",
              "       ['81', '2019-04', 'City of London Police',\n",
              "        'City of London Police', '-0.079011', '51.509614',\n",
              "        'On or near Pedestrian Subway', 'E01032739',\n",
              "        'City of London 001F', 'Drugs',\n",
              "        'Offender given a drugs possession warning', '81'],\n",
              "       ['110', '2018-08', 'City of London Police',\n",
              "        'City of London Police', '-0.080034', '51.513389',\n",
              "        'On or near Leadenhall Street', 'E01032739',\n",
              "        'City of London 001F', 'Bicycle theft',\n",
              "        'Court result unavailable', '110'],\n",
              "       ['140', '2017-06', 'City of London Police',\n",
              "        'City of London Police', '-0.078856', '51.518433',\n",
              "        'On or near Artillery Lane', 'E01032739', 'City of London 001F',\n",
              "        'Public order', 'Investigation complete; no suspect identified',\n",
              "        '140'],\n",
              "       ['14', '2019-04', 'City of London Police',\n",
              "        'City of London Police', '-0.088843', '51.509532',\n",
              "        'On or near Parking Area', 'E01032739', 'City of London 001F',\n",
              "        'Violence and sexual offences',\n",
              "        'Investigation complete; no suspect identified', '14'],\n",
              "       ['13', '2019-06', 'City of London Police',\n",
              "        'City of London Police', '-0.08776', '51.517149',\n",
              "        'On or near London Wall', 'E01032739', 'City of London 001F',\n",
              "        'Burglary', 'Investigation complete; no suspect identified',\n",
              "        '13'],\n",
              "       ['26', '2018-07', 'City of London Police',\n",
              "        'City of London Police', '-0.088203', '51.518262',\n",
              "        'On or near Moorgate', 'E01032739', 'City of London 001F',\n",
              "        'Other theft', 'Investigation complete; no suspect identified',\n",
              "        '26'],\n",
              "       ['58', '2019-06', 'City of London Police',\n",
              "        'City of London Police', '-0.09172', '51.513454',\n",
              "        'On or near Supermarket', 'E01032739', 'City of London 001F',\n",
              "        'Shoplifting', 'Investigation complete; no suspect identified',\n",
              "        '58'],\n",
              "       ['100', '2017-03', 'City of London Police',\n",
              "        'City of London Police', '-0.080782', '51.514804',\n",
              "        'On or near St Mary Axe', 'E01032739', 'City of London 001F',\n",
              "        'Shoplifting', 'Investigation complete; no suspect identified',\n",
              "        '100'],\n",
              "       ['145', '2016-11', 'City of London Police',\n",
              "        'City of London Police', '-0.084566', '51.51769',\n",
              "        'On or near Blomfield Street', 'E01032739',\n",
              "        'City of London 001F', 'Other theft',\n",
              "        'Investigation complete; no suspect identified', '145']],\n",
              "      dtype='<U45')"
            ]
          },
          "metadata": {},
          "execution_count": 43
        }
      ]
    },
    {
      "cell_type": "code",
      "source": [
        "data = pd.DataFrame(index=range(10*len(df.iloc[:,4:5])), columns=['x','y','label'])"
      ],
      "metadata": {
        "id": "uE2aBsSc-ce-"
      },
      "execution_count": 41,
      "outputs": []
    },
    {
      "cell_type": "code",
      "source": [
        "data"
      ],
      "metadata": {
        "colab": {
          "base_uri": "https://localhost:8080/",
          "height": 424
        },
        "id": "S90-KxcT_-pt",
        "outputId": "a900733c-f393-4134-dab3-3e4dc8a309b5"
      },
      "execution_count": 42,
      "outputs": [
        {
          "output_type": "execute_result",
          "data": {
            "text/plain": [
              "          x    y label\n",
              "0       NaN  NaN   NaN\n",
              "1       NaN  NaN   NaN\n",
              "2       NaN  NaN   NaN\n",
              "3       NaN  NaN   NaN\n",
              "4       NaN  NaN   NaN\n",
              "...     ...  ...   ...\n",
              "234335  NaN  NaN   NaN\n",
              "234336  NaN  NaN   NaN\n",
              "234337  NaN  NaN   NaN\n",
              "234338  NaN  NaN   NaN\n",
              "234339  NaN  NaN   NaN\n",
              "\n",
              "[234340 rows x 3 columns]"
            ],
            "text/html": [
              "\n",
              "  <div id=\"df-e6597439-5292-4e8f-82f0-1e27b2dff0ee\">\n",
              "    <div class=\"colab-df-container\">\n",
              "      <div>\n",
              "<style scoped>\n",
              "    .dataframe tbody tr th:only-of-type {\n",
              "        vertical-align: middle;\n",
              "    }\n",
              "\n",
              "    .dataframe tbody tr th {\n",
              "        vertical-align: top;\n",
              "    }\n",
              "\n",
              "    .dataframe thead th {\n",
              "        text-align: right;\n",
              "    }\n",
              "</style>\n",
              "<table border=\"1\" class=\"dataframe\">\n",
              "  <thead>\n",
              "    <tr style=\"text-align: right;\">\n",
              "      <th></th>\n",
              "      <th>x</th>\n",
              "      <th>y</th>\n",
              "      <th>label</th>\n",
              "    </tr>\n",
              "  </thead>\n",
              "  <tbody>\n",
              "    <tr>\n",
              "      <th>0</th>\n",
              "      <td>NaN</td>\n",
              "      <td>NaN</td>\n",
              "      <td>NaN</td>\n",
              "    </tr>\n",
              "    <tr>\n",
              "      <th>1</th>\n",
              "      <td>NaN</td>\n",
              "      <td>NaN</td>\n",
              "      <td>NaN</td>\n",
              "    </tr>\n",
              "    <tr>\n",
              "      <th>2</th>\n",
              "      <td>NaN</td>\n",
              "      <td>NaN</td>\n",
              "      <td>NaN</td>\n",
              "    </tr>\n",
              "    <tr>\n",
              "      <th>3</th>\n",
              "      <td>NaN</td>\n",
              "      <td>NaN</td>\n",
              "      <td>NaN</td>\n",
              "    </tr>\n",
              "    <tr>\n",
              "      <th>4</th>\n",
              "      <td>NaN</td>\n",
              "      <td>NaN</td>\n",
              "      <td>NaN</td>\n",
              "    </tr>\n",
              "    <tr>\n",
              "      <th>...</th>\n",
              "      <td>...</td>\n",
              "      <td>...</td>\n",
              "      <td>...</td>\n",
              "    </tr>\n",
              "    <tr>\n",
              "      <th>234335</th>\n",
              "      <td>NaN</td>\n",
              "      <td>NaN</td>\n",
              "      <td>NaN</td>\n",
              "    </tr>\n",
              "    <tr>\n",
              "      <th>234336</th>\n",
              "      <td>NaN</td>\n",
              "      <td>NaN</td>\n",
              "      <td>NaN</td>\n",
              "    </tr>\n",
              "    <tr>\n",
              "      <th>234337</th>\n",
              "      <td>NaN</td>\n",
              "      <td>NaN</td>\n",
              "      <td>NaN</td>\n",
              "    </tr>\n",
              "    <tr>\n",
              "      <th>234338</th>\n",
              "      <td>NaN</td>\n",
              "      <td>NaN</td>\n",
              "      <td>NaN</td>\n",
              "    </tr>\n",
              "    <tr>\n",
              "      <th>234339</th>\n",
              "      <td>NaN</td>\n",
              "      <td>NaN</td>\n",
              "      <td>NaN</td>\n",
              "    </tr>\n",
              "  </tbody>\n",
              "</table>\n",
              "<p>234340 rows × 3 columns</p>\n",
              "</div>\n",
              "      <button class=\"colab-df-convert\" onclick=\"convertToInteractive('df-e6597439-5292-4e8f-82f0-1e27b2dff0ee')\"\n",
              "              title=\"Convert this dataframe to an interactive table.\"\n",
              "              style=\"display:none;\">\n",
              "        \n",
              "  <svg xmlns=\"http://www.w3.org/2000/svg\" height=\"24px\"viewBox=\"0 0 24 24\"\n",
              "       width=\"24px\">\n",
              "    <path d=\"M0 0h24v24H0V0z\" fill=\"none\"/>\n",
              "    <path d=\"M18.56 5.44l.94 2.06.94-2.06 2.06-.94-2.06-.94-.94-2.06-.94 2.06-2.06.94zm-11 1L8.5 8.5l.94-2.06 2.06-.94-2.06-.94L8.5 2.5l-.94 2.06-2.06.94zm10 10l.94 2.06.94-2.06 2.06-.94-2.06-.94-.94-2.06-.94 2.06-2.06.94z\"/><path d=\"M17.41 7.96l-1.37-1.37c-.4-.4-.92-.59-1.43-.59-.52 0-1.04.2-1.43.59L10.3 9.45l-7.72 7.72c-.78.78-.78 2.05 0 2.83L4 21.41c.39.39.9.59 1.41.59.51 0 1.02-.2 1.41-.59l7.78-7.78 2.81-2.81c.8-.78.8-2.07 0-2.86zM5.41 20L4 18.59l7.72-7.72 1.47 1.35L5.41 20z\"/>\n",
              "  </svg>\n",
              "      </button>\n",
              "      \n",
              "  <style>\n",
              "    .colab-df-container {\n",
              "      display:flex;\n",
              "      flex-wrap:wrap;\n",
              "      gap: 12px;\n",
              "    }\n",
              "\n",
              "    .colab-df-convert {\n",
              "      background-color: #E8F0FE;\n",
              "      border: none;\n",
              "      border-radius: 50%;\n",
              "      cursor: pointer;\n",
              "      display: none;\n",
              "      fill: #1967D2;\n",
              "      height: 32px;\n",
              "      padding: 0 0 0 0;\n",
              "      width: 32px;\n",
              "    }\n",
              "\n",
              "    .colab-df-convert:hover {\n",
              "      background-color: #E2EBFA;\n",
              "      box-shadow: 0px 1px 2px rgba(60, 64, 67, 0.3), 0px 1px 3px 1px rgba(60, 64, 67, 0.15);\n",
              "      fill: #174EA6;\n",
              "    }\n",
              "\n",
              "    [theme=dark] .colab-df-convert {\n",
              "      background-color: #3B4455;\n",
              "      fill: #D2E3FC;\n",
              "    }\n",
              "\n",
              "    [theme=dark] .colab-df-convert:hover {\n",
              "      background-color: #434B5C;\n",
              "      box-shadow: 0px 1px 3px 1px rgba(0, 0, 0, 0.15);\n",
              "      filter: drop-shadow(0px 1px 2px rgba(0, 0, 0, 0.3));\n",
              "      fill: #FFFFFF;\n",
              "    }\n",
              "  </style>\n",
              "\n",
              "      <script>\n",
              "        const buttonEl =\n",
              "          document.querySelector('#df-e6597439-5292-4e8f-82f0-1e27b2dff0ee button.colab-df-convert');\n",
              "        buttonEl.style.display =\n",
              "          google.colab.kernel.accessAllowed ? 'block' : 'none';\n",
              "\n",
              "        async function convertToInteractive(key) {\n",
              "          const element = document.querySelector('#df-e6597439-5292-4e8f-82f0-1e27b2dff0ee');\n",
              "          const dataTable =\n",
              "            await google.colab.kernel.invokeFunction('convertToInteractive',\n",
              "                                                     [key], {});\n",
              "          if (!dataTable) return;\n",
              "\n",
              "          const docLinkHtml = 'Like what you see? Visit the ' +\n",
              "            '<a target=\"_blank\" href=https://colab.research.google.com/notebooks/data_table.ipynb>data table notebook</a>'\n",
              "            + ' to learn more about interactive tables.';\n",
              "          element.innerHTML = '';\n",
              "          dataTable['output_type'] = 'display_data';\n",
              "          await google.colab.output.renderOutput(dataTable, element);\n",
              "          const docLink = document.createElement('div');\n",
              "          docLink.innerHTML = docLinkHtml;\n",
              "          element.appendChild(docLink);\n",
              "        }\n",
              "      </script>\n",
              "    </div>\n",
              "  </div>\n",
              "  "
            ]
          },
          "metadata": {},
          "execution_count": 42
        }
      ]
    },
    {
      "cell_type": "code",
      "source": [
        ""
      ],
      "metadata": {
        "id": "e6a96wqX_t-G"
      },
      "execution_count": null,
      "outputs": []
    }
  ]
}