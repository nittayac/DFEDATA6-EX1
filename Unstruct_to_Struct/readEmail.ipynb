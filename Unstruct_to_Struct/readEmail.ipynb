{
  "nbformat": 4,
  "nbformat_minor": 0,
  "metadata": {
    "colab": {
      "name": "Untitled2.ipynb",
      "provenance": [],
      "collapsed_sections": [],
      "authorship_tag": "ABX9TyPnWEB/nZuK5gvaO16owHQM",
      "include_colab_link": true
    },
    "kernelspec": {
      "name": "python3",
      "display_name": "Python 3"
    },
    "language_info": {
      "name": "python"
    }
  },
  "cells": [
    {
      "cell_type": "markdown",
      "metadata": {
        "id": "view-in-github",
        "colab_type": "text"
      },
      "source": [
        "<a href=\"https://colab.research.google.com/github/nittayac/DFEDATA6-EX1/blob/main/Unstruct_to_Struct/readEmail.ipynb\" target=\"_parent\"><img src=\"https://colab.research.google.com/assets/colab-badge.svg\" alt=\"Open In Colab\"/></a>"
      ]
    },
    {
      "cell_type": "code",
      "execution_count": null,
      "metadata": {
        "id": "8GroPmF_V_CB"
      },
      "outputs": [],
      "source": [
        "import imaplib\n",
        "import email\n",
        "from email.header import decode_header\n",
        "import webbrowser\n",
        "import os"
      ]
    },
    {
      "cell_type": "code",
      "source": [
        "# account credentials\n",
        "username = \"nittayanatt@hotmail.com\"\n",
        "password = \"\""
      ],
      "metadata": {
        "id": "zt5wTdcaWFxd"
      },
      "execution_count": null,
      "outputs": []
    },
    {
      "cell_type": "code",
      "source": [
        "def clean(text):\n",
        "    # clean text for creating a folder\n",
        "    return \"\".join(c if c.isalnum() else \"_\" for c in text)"
      ],
      "metadata": {
        "id": "T1Jp2zVZXiMr"
      },
      "execution_count": null,
      "outputs": []
    },
    {
      "cell_type": "code",
      "source": [
        "# create an IMAP4 class with SSL \n",
        "imap = imaplib.IMAP4_SSL(\"imap-mail.outlook.com\") #outlook and hotmail\n",
        "#imap = imaplib.IMAP4_SSL(\"imap.gmail.com\") # gmail\n",
        "# authenticate\n",
        "imap.login(username, password)"
      ],
      "metadata": {
        "colab": {
          "base_uri": "https://localhost:8080/"
        },
        "id": "rwHdyDQ2Xm3x",
        "outputId": "25660732-61f2-43f0-f6a7-adddacd19963"
      },
      "execution_count": null,
      "outputs": [
        {
          "output_type": "execute_result",
          "data": {
            "text/plain": [
              "('OK', [b'LOGIN completed.'])"
            ]
          },
          "metadata": {},
          "execution_count": 9
        }
      ]
    },
    {
      "cell_type": "code",
      "source": [
        "status, messages = imap.select(\"INBOX\")  #selects a mailbox (Inbox, spam, etc.),\n",
        "# number of top emails to fetch\n",
        "N = 3\n",
        "# total number of emails\n",
        "messages = int(messages[0])\n",
        "print(messages)"
      ],
      "metadata": {
        "colab": {
          "base_uri": "https://localhost:8080/"
        },
        "id": "EwJVkdCTY2q9",
        "outputId": "f70bada2-8939-4b36-8ce0-faba9e9e35a8"
      },
      "execution_count": null,
      "outputs": [
        {
          "output_type": "stream",
          "name": "stdout",
          "text": [
            "7\n"
          ]
        }
      ]
    },
    {
      "cell_type": "code",
      "source": [
        "for i in range(messages, messages-N, -1):\n",
        "    # fetch the email message by ID\n",
        "    res, msg = imap.fetch(str(i), \"(RFC822)\")    #imap.fetch() method, which fetches the email message by ID using the standard format specified in RFC 822.\n",
        "    for response in msg:\n",
        "        if isinstance(response, tuple):\n",
        "            # parse a bytes email into a message object\n",
        "            msg = email.message_from_bytes(response[1])\n",
        "            # decode the email subject\n",
        "            subject, encoding = decode_header(msg[\"Subject\"])[0]  #decode_header() function from the email.header module to decode the subject of the email address to human-readable Unicode.\n",
        "            if isinstance(subject, bytes):\n",
        "                # if it's a bytes, decode to str\n",
        "                subject = subject.decode(encoding)\n",
        "            # decode email sender\n",
        "            From, encoding = decode_header(msg.get(\"From\"))[0]\n",
        "            if isinstance(From, bytes):\n",
        "                From = From.decode(encoding)\n",
        "            print(\"Subject:\", subject)\n",
        "            print(\"From:\", From)\n",
        "            # if the email message is multipart\n",
        "            if msg.is_multipart():\n",
        "                # iterate over email parts\n",
        "                for part in msg.walk():\n",
        "                    # extract content type of email\n",
        "                    content_type = part.get_content_type()\n",
        "                    content_disposition = str(part.get(\"Content-Disposition\"))\n",
        "                    try:\n",
        "                        # get the email body\n",
        "                        body = part.get_payload(decode=True).decode()\n",
        "                    except:\n",
        "                        pass\n",
        "                    if content_type == \"text/plain\" and \"attachment\" not in content_disposition:\n",
        "                        # print text/plain emails and skip attachments\n",
        "                        print(body)\n",
        "                    elif \"attachment\" in content_disposition:\n",
        "                        # download attachment\n",
        "                        filename = part.get_filename()\n",
        "                        if filename:\n",
        "                            folder_name = clean(subject)\n",
        "                            if not os.path.isdir(folder_name):\n",
        "                                # make a folder for this email (named after the subject)\n",
        "                                os.mkdir(folder_name)\n",
        "                            filepath = os.path.join(folder_name, filename)\n",
        "                            # download attachment and save it\n",
        "                            open(filepath, \"wb\").write(part.get_payload(decode=True))\n",
        "            else:\n",
        "                # extract content type of email\n",
        "                content_type = msg.get_content_type()\n",
        "                # get the email body\n",
        "                body = msg.get_payload(decode=True).decode()\n",
        "                if content_type == \"text/plain\":\n",
        "                    # print only text email parts\n",
        "                    print(body)\n",
        "            if content_type == \"text/html\":\n",
        "                # if it's HTML, create a new HTML file and open it in browser\n",
        "                folder_name = clean(subject)\n",
        "                if not os.path.isdir(folder_name):\n",
        "                    # make a folder for this email (named after the subject)\n",
        "                    os.mkdir(folder_name)\n",
        "                filename = \"index.html\"\n",
        "                filepath = os.path.join(folder_name, filename)\n",
        "                # write the file\n",
        "                open(filepath, \"w\").write(body)\n",
        "                # open in the default browser\n",
        "                webbrowser.open(filepath)\n",
        "            print(\"=\"*100)\n",
        "# close the connection and logout\n",
        "imap.close()\n",
        "imap.logout()"
      ],
      "metadata": {
        "colab": {
          "base_uri": "https://localhost:8080/"
        },
        "id": "t5oZilO3Y42X",
        "outputId": "028770d1-4f2d-4188-e719-7b950426c3f4"
      },
      "execution_count": null,
      "outputs": [
        {
          "output_type": "stream",
          "name": "stdout",
          "text": [
            "Subject: Microsoft account security info verification\n",
            "From: Microsoft account team\r\n",
            "\t<account-security-noreply@accountprotection.microsoft.com>\n",
            "You recently verified the security info on the Microsoft account ni**t@hotmail.com. This was a periodic security check which only happens if you haven't used a security code recently. You won't need to provide a code every time you sign in.\r\n",
            "\r\n",
            "It's important to keep the security info associated with your account correct and up to date. We'll never use this info to spam you or for any marketing purposes – it's only to verify your identity if there's ever a problem with your account.\r\n",
            "\r\n",
            "To learn more or contact support, click here http://go.microsoft.com/fwlink/?LinkID=281822.\r\n",
            "\r\n",
            "To opt out or change where you receive security notifications, click here https://account.live.com/SecurityNotifications/Update.\r\n",
            "\r\n",
            "Thanks,\r\n",
            "The Microsoft account team \n",
            "====================================================================================================\n",
            "Subject: Microsoft account security info was added\n",
            "From: Microsoft account team\n",
            "\t<account-security-noreply@accountprotection.microsoft.com>\n",
            "The following security info was recently added to the Microsoft account ni**t@hotmail.com:\n",
            "\n",
            "nittayanatt@gmail.com\n",
            "\n",
            "If this was you, then you can safely ignore this email.\n",
            "\n",
            "If this wasn't you, a malicious user has access to your account. Please review your recent activity and we'll help you secure your account.\n",
            "\n",
            "Review recent activity https://account.microsoft.com/activity.\n",
            "\n",
            "To opt out or change where you receive security notifications, click here https://account.live.com/SecurityNotifications/Update.\n",
            "\n",
            "Thanks,\n",
            "The Microsoft account team \n",
            "====================================================================================================\n",
            "Subject: Create and collaborate anywhere with your Microsoft account\n",
            "From: \"Microsoft Account\" <email@engage.windows.com>\n",
            "Microsoft\n",
            " \n",
            "\n",
            "\n",
            "\n",
            "\n",
            "https://click.engage.windows.com/?qs=e7ddfd83650678b3b7a24fb4d0cc7c993a122000fb1bde633c4eeca14c8dd5259b1b3032631c847e853f003ca6acb32bf4c4949d9c52adb787fa8fc906a894b1 \n",
            " \n",
            "\n",
            "\n",
            "https://click.engage.windows.com/?qs=e7ddfd83650678b39fe052bc4e09094190c616d78a64f9299aaa587b5e39c8b48e0d84a9f8e8083a9627154d37615e4980a74549931209c05e167ec642f81575 \n",
            "\n",
            "https://click.engage.windows.com/?qs=e7ddfd83650678b3649d349e408849d32692bc1e720b50624602d014f003c9ed4dab998e734210c5321fd79d2de5600d03e40cf3fe48a61d2481cb8634462404 \n",
            "Your office, anywhere \n",
            "Your new Microsoft account includes access to the Office mobile app. Combining Word, Excel, PowerPoint, and more in one, it’s your new go-to productivity app.\n",
            "\n",
            "https://click.engage.windows.com/?qs=e7ddfd83650678b3649d349e408849d32692bc1e720b50624602d014f003c9ed4dab998e734210c5321fd79d2de5600d03e40cf3fe48a61d2481cb8634462404 \n",
            "  Get the Office mobile app  \n",
            "\n",
            "Take your office online\n",
            "\n",
            "https://click.engage.windows.com/?qs=e7ddfd83650678b3b5b3ed213adf87fba8997e2eccd71353e9b29021a2c3624fc0612cf931a5700532dc5d5cfe43de505b80f2d7bed277f03e9d52f250fa3d2d \n",
            "\n",
            "Start using Word with Office for the web for free to create newsletters, calendars, and more anywhere you have internet access. \n",
            "https://click.engage.windows.com/?qs=e7ddfd83650678b3b5b3ed213adf87fba8997e2eccd71353e9b29021a2c3624fc0612cf931a5700532dc5d5cfe43de505b80f2d7bed277f03e9d52f250fa3d2d \n",
            "Learn  about Word.\n",
            "\n",
            "https://click.engage.windows.com/?qs=e7ddfd83650678b3345e78dfce2077a276e9b42300430ead960af9a93f1ee89e59cf6890e88e90b21d926624f27903269a7c12d4119c18ce1235aca228284f18 \n",
            "Use Word with your  Microsoft account\n",
            "\n",
            "\n",
            "https://click.engage.windows.com/?qs=e7ddfd83650678b3afe86db3f3b0e4be5ade04ea746cf5134da56e8407cc2c93a574a63fba70578edb8fe0b9915c7f47338294035c95e8d9e9a31d9a2f613fea \n",
            "\n",
            "Keep track of your budget, calendar, and more online in Excel spreadsheets with Office for the web. \n",
            "https://click.engage.windows.com/?qs=e7ddfd83650678b3afe86db3f3b0e4be5ade04ea746cf5134da56e8407cc2c93a574a63fba70578edb8fe0b9915c7f47338294035c95e8d9e9a31d9a2f613fea \n",
            "Learn  about Excel.\n",
            "\n",
            "https://click.engage.windows.com/?qs=e7ddfd83650678b36cc6e415dc88e28b17cd0f85ab8f7c060fbcbf9b440e6ac60fa5f79390aaaf64ea61e8f4026d39147c7e3facc943671523eb6e0b23bee44e \n",
            "Use Excel with your  Microsoft account\n",
            "\n",
            "\n",
            "https://click.engage.windows.com/?qs=e7ddfd83650678b3c996c8f3ec4ee3bd3704e0c04e9e958b7a2e2354de691e94190478e15a36af0e4200a964569e8fbb853954847f98e880416640e0864edcac \n",
            "\n",
            "Share your biggest ideas and collaborate with others online from anywhere in PowerPoint for the web. \n",
            "https://click.engage.windows.com/?qs=e7ddfd83650678b3c996c8f3ec4ee3bd3704e0c04e9e958b7a2e2354de691e94190478e15a36af0e4200a964569e8fbb853954847f98e880416640e0864edcac \n",
            "Learn  about PowerPoint.\n",
            "\n",
            "https://click.engage.windows.com/?qs=e7ddfd83650678b366b6bf76f35f0a40b844f647a51ac6de39abc129e7698951eddb02a49c543d39344541c3bdc05fead34d1bed2dd547255e84d2381f7ffe9a \n",
            "Use PowerPoint with your  Microsoft account\n",
            "\n",
            "\n",
            "https://click.engage.windows.com/?qs=e7ddfd83650678b3e19f59ba327bc80a4dab769c5eef37cf8e41e04bef6529a944653f1a534086e0d80e1b37cd885da1e1e5dea99adff3d0d0df61c104b5ee12 \n",
            "\n",
            "https://click.engage.windows.com/?qs=e7ddfd83650678b3e19f59ba327bc80a4dab769c5eef37cf8e41e04bef6529a944653f1a534086e0d80e1b37cd885da1e1e5dea99adff3d0d0df61c104b5ee12 \n",
            "Accomplish more with  Microsoft 365\n",
            "Upgrade to Microsoft 365 Family to unlock premium benefits you can share with up to 5 other people, like 1TB of OneDrive cloud storage each, including advanced security with Personal Vault.1 Write like a pro with intelligent assistance from Microsoft Editor, and more.\n",
            "\n",
            "https://click.engage.windows.com/?qs=e7ddfd83650678b3e19f59ba327bc80a4dab769c5eef37cf8e41e04bef6529a944653f1a534086e0d80e1b37cd885da1e1e5dea99adff3d0d0df61c104b5ee12 \n",
            "  Explore plans  \n",
            "\n",
            "\n",
            "https://click.engage.windows.com/?qs=e7ddfd83650678b3f1ce73755fe93932ce8ab6960c1fb67ed30691f866390bacce29427792b950c21c9700e0e719acacd35291d880515a9d3069c79da17e751f \n",
            "\n",
            "https://click.engage.windows.com/?qs=e7ddfd83650678b332edfc60bd332c51cd65162cbb0dd8e3e07a30042a3d33b2770ba2c46833320ef6a064be21d0dd7ecea83ec417414684053d64cf5fd81eb4 \n",
            "\n",
            "https://click.engage.windows.com/?qs=e7ddfd83650678b3fbd6e502c500129d37a6a65d6391d79c4cd6bae76f8e4bd7e5d592e4bbd0bfdf91d10097c8a26bcea7de2c091e8e72e3f21c9c2d1744812c \n",
            "\n",
            "https://click.engage.windows.com/?qs=e7ddfd83650678b3edc38d40029a1eecbdb8f050031cdcecb864426651de04bf22fd727619ffa26fd128540df410e44315eb7e60a5cf1eafdca4beb2c603e8fe \n",
            "\n",
            " \n",
            "1 A Microsoft 365 Family subscription can be used by up to 6 people; a Microsoft 365 Personal subscription can be used by one person. Subscriptions include 1TB of OneDrive cloud storage per person.\n",
            "\n",
            "https://click.engage.windows.com/?qs=e7ddfd83650678b3d795e6d97e03f999e589d03579731a2855052672bcc7f33a429cd7d45bf6b93de54306d14e7fd96c1bb0b4b56983c6ae91fbd6c44336cfe7 \n",
            "Unsubscribe  | \n",
            "https://click.engage.windows.com/?qs=e7ddfd83650678b33c134cacd1077b7ef7e7457d337374441be4874504fec5d22e5f986368f1c8e4c24fc05c10b454b1a5704fb30cfdb4f43a49abf5a0f328e7 \n",
            "Privacy Statement  | \n",
            "https://view.engage.windows.com/?qs=8f14e1815024296fec407f8d9c0ab9788599ebcf81a9643081a161b7cf20c407c352c4237c09142950856518cc1946c31b9c920eea7b512846f32b6f6925030ca480aa9d9951f1db79db6deb28844d04 \n",
            "View as webpage \n",
            "\n",
            "Microsoft Corporation\n",
            "\n",
            "One Microsoft Way\n",
            "\n",
            "Redmond, WA 98052\n",
            "\n",
            " \n",
            " \n",
            "\n",
            "  \n",
            " \n",
            "\n",
            " \n",
            " \n",
            "\n",
            " \n",
            " \n",
            "\n",
            "  \n",
            " \n",
            "\n",
            "  \n",
            " \n",
            "\n",
            " \n",
            " \n",
            "\n",
            " \n",
            " \n",
            "\n",
            " \n",
            " \n",
            "\n",
            " \n",
            " \n",
            "\n",
            " \n",
            " \n",
            "\n",
            " \n",
            " \n",
            "\n",
            "\n",
            "\n",
            "====================================================================================================\n"
          ]
        },
        {
          "output_type": "execute_result",
          "data": {
            "text/plain": [
              "('BYE', [b'Microsoft Exchange Server IMAP4 server signing off.'])"
            ]
          },
          "metadata": {},
          "execution_count": 12
        }
      ]
    }
  ]
}
