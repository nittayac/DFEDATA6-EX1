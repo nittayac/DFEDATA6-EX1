{
  "nbformat": 4,
  "nbformat_minor": 0,
  "metadata": {
    "colab": {
      "name": "11 OurConvolutionNetwork.ipynb",
      "provenance": [],
      "collapsed_sections": [],
      "include_colab_link": true
    },
    "kernelspec": {
      "name": "python3",
      "display_name": "Python 3"
    }
  },
  "cells": [
    {
      "cell_type": "markdown",
      "metadata": {
        "id": "view-in-github",
        "colab_type": "text"
      },
      "source": [
        "<a href=\"https://colab.research.google.com/github/nittayac/DFEDATA6-EX1/blob/main/11_OurConvolutionNetwork.ipynb\" target=\"_parent\"><img src=\"https://colab.research.google.com/assets/colab-badge.svg\" alt=\"Open In Colab\"/></a>"
      ]
    },
    {
      "cell_type": "code",
      "metadata": {
        "id": "WVn_dUcN-MPL",
        "outputId": "11d6ac7a-87dc-4358-c24d-66f1e1b79634",
        "colab": {
          "base_uri": "https://localhost:8080/",
          "height": 35
        }
      },
      "source": [
        "# NEURAL NETWORKS DO NOT DO DATA CLEANING!\n",
        "\n",
        "# IF TF prefers channels _Last-> we need to arrange our images before passing to NN\n",
        "# THEANO -> Channels_first -> WE need to arrange our images\n",
        "\n",
        "\n",
        "# in our NLP problem -> preprocessed sentences were analyzed\n",
        "# in our CV problems-> images are preprocessed \n",
        "!ls\n"
      ],
      "execution_count": null,
      "outputs": [
        {
          "output_type": "stream",
          "text": [
            "data  sample_data\n"
          ],
          "name": "stdout"
        }
      ]
    },
    {
      "cell_type": "code",
      "metadata": {
        "id": "xgQWq65r_Hgv",
        "outputId": "2a2a4759-eab3-4349-9f54-49ac926e1df5",
        "colab": {
          "base_uri": "https://localhost:8080/",
          "height": 217
        }
      },
      "source": [
        "import cv2\n",
        "from google.colab.patches import cv2_imshow\n",
        "img = cv2.imread('000003.jpg')\n",
        "img_resized = cv2.resize(img, (200,200)) # SMALL DISTORTION are WELCOME! \n",
        "cv2_imshow(img_resized)"
      ],
      "execution_count": null,
      "outputs": [
        {
          "output_type": "display_data",
          "data": {
            "image/png": "[encoded data removed]",
            "text/plain": [
              "<PIL.Image.Image image mode=RGB size=200x200 at 0x7F95509F30F0>"
            ]
          },
          "metadata": {
            "tags": []
          }
        }
      ]
    },
    {
      "cell_type": "code",
      "metadata": {
        "id": "U_UrZDhr_-76",
        "outputId": "870bd99d-288d-43d8-9cce-443cf46f907d",
        "colab": {
          "base_uri": "https://localhost:8080/",
          "height": 35
        }
      },
      "source": [
        "img_resized[0] # EACH element is a LIST of 3 elements -> CHANNEL value-> 3 channels\n",
        "img_resized.shape"
      ],
      "execution_count": null,
      "outputs": [
        {
          "output_type": "execute_result",
          "data": {
            "text/plain": [
              "(200, 200, 3)"
            ]
          },
          "metadata": {
            "tags": []
          },
          "execution_count": 12
        }
      ]
    },
    {
      "cell_type": "code",
      "metadata": {
        "id": "WkTTK6ZOAR1Q",
        "outputId": "13cd3e31-dc3f-4516-de86-18f2cc82c392",
        "colab": {
          "base_uri": "https://localhost:8080/",
          "height": 35
        }
      },
      "source": [
        "img_resized[5][0] # 5th row, 0th column\n",
        "\n",
        "# uint8 -> each channel is unsigned (no negative signs) and 8 bit in size "
      ],
      "execution_count": null,
      "outputs": [
        {
          "output_type": "execute_result",
          "data": {
            "text/plain": [
              "array([255, 255, 255], dtype=uint8)"
            ]
          },
          "metadata": {
            "tags": []
          },
          "execution_count": 14
        }
      ]
    },
    {
      "cell_type": "code",
      "metadata": {
        "id": "-q0GHkfNA8MR",
        "colab": {
          "base_uri": "https://localhost:8080/",
          "height": 35
        },
        "outputId": "6b4c631f-0a83-4c57-9c30-2f08295a9735"
      },
      "source": [
        "import numpy as np\n",
        "from keras import backend # backend -> tf/theano etc\n",
        "from keras.layers.core import Dense, Dropout, Flatten, Activation\n",
        "from keras.layers.convolutional import Conv2D, MaxPooling2D\n",
        "from keras.layers.normalization import BatchNormalization\n",
        "from keras.models import Sequential # no parallel, no cycles \n",
        "\n",
        "# TF can create all = DAG, DCG, IAG, ICG "
      ],
      "execution_count": null,
      "outputs": [
        {
          "output_type": "stream",
          "text": [
            "Using TensorFlow backend.\n"
          ],
          "name": "stderr"
        }
      ]
    },
    {
      "cell_type": "code",
      "metadata": {
        "id": "-BVCnCrFTxM5"
      },
      "source": [
        "# SUCH networks can be VERY large and usually only 1 instance runs \n",
        "# otherwise RAM will be cluttered and all will crash! (OS+model+harddisk)\n",
        "\n",
        "# NO MORE THAN 1 INSTANCE of such programs should be RUNNING! \n",
        "\n",
        "# SINGLETON -> class which can have ONLY 1 instance -> TASK MANAGER! "
      ],
      "execution_count": null,
      "outputs": []
    },
    {
      "cell_type": "code",
      "metadata": {
        "id": "gz1VGDNmV65s"
      },
      "source": [
        "\n",
        " # the method declared after @st... will be STATIC\n",
        "  # ONLY 1 copy of it will RUN from the beginning till the end of program\n",
        "  # STATIC keyword -> STATIC MEANS ALWAYS PRESENT (Static CURRENT!)\n",
        "\n",
        "  # DEPTH = Channel depth = channel dimension = no. of channels \n",
        "  #                       \n",
        "# KERAS needs us to arrange -> IMAGE STRUCTURE \n",
        "    # Tensorflow -> CHANNEL_LAST -> (height, width, depth)\n",
        "    # Theano -> CHANNEL_FIRST -> (depth, height, width)\n",
        "    # https://machinelearningmastery.com/a-gentle-introduction-to-channels-first-and-channels-last-image-formats-for-deep-learning/\n",
        "\n",
        "\n",
        "# PandaVGG = ((Conv + ReLU + BN) + MP + Dropout + ( (Conv + ReLU + BN) + MP + Dropout)XN\n",
        "#             + (Flatten + Dense(ReLu) + Dense(SoftMax))\n",
        "\n",
        "class PandaVGG:\n",
        "  @staticmethod\n",
        "  def build( height, width, depth, classes) :\n",
        "  \n",
        "    # let's assume we are on TF, else we will switch to Theano \n",
        "    inputShape = (height, width, depth)\n",
        "    channel_dim = -1  # last element -> CHANNELS_LAST \n",
        "    if backend.image_data_format() == 'channels_first':\n",
        "      inputShape = (depth, height, width)\n",
        "      channel_dim = 1\n",
        "    # { data, representation } => [data,representation] or [representation, data]\n",
        "    #  { images, channels}     => channels_last or channels_first \n",
        "    # data -> 2 d images -> height [row], width [columns] \n",
        "\n",
        "    HP_block1_conv_dim = 32    \n",
        "    HP_small_pattern = (3,3)\n",
        "    HP_block2_conv_dim = 64\n",
        "    HP_block3_conv_dim = 128\n",
        "    HP_block4_conv_dim = 256\n",
        "    HP_block5_dense_dim = 1024\n",
        "    HP_large_pattern = (2,2)\n",
        "    HP_dropout_type1 = 0.25\n",
        "    HP_dropout_type2 = 0.50\n",
        "    \n",
        "    model = Sequential()\n",
        "# PandaVGG = (Conv + ReLU + BN) + MP + Dropout + ((Conv + ReLU + BN)X2 + MP + Dropout) X N\n",
        "#             + (Flatten + Dense(ReLu) + Dense(SoftMax))\n",
        "\n",
        "    # block1 starts-> (Conv + ReLU + BN) + MP + Dropout \n",
        "    model.add(Conv2D(HP_block1_conv_dim, HP_small_pattern, padding='same', input_shape=inputShape))\n",
        "    model.add(Activation('relu'))\n",
        "    model.add(BatchNormalization(axis=channel_dim)) # our data needs to be normalized, not our channels!!!\n",
        "    model.add(MaxPooling2D(pool_size=HP_small_pattern))\n",
        "    model.add(Dropout(HP_dropout_type1))\n",
        "    # block1 complete \n",
        "\n",
        "    #block2 starts -> (Conv + RelU + BN) X2   + Compress + Drop \n",
        "    model.add(Conv2D(HP_block2_conv_dim,HP_small_pattern, padding='same' ))\n",
        "    model.add(Activation('relu'))\n",
        "    model.add(BatchNormalization(axis=channel_dim))\n",
        "    model.add(Conv2D(HP_block2_conv_dim,HP_small_pattern, padding='same' ))\n",
        "    model.add(Activation('relu'))\n",
        "    model.add(BatchNormalization(axis=channel_dim))\n",
        "    model.add(MaxPooling2D(pool_size=HP_large_pattern))\n",
        "    model.add(Dropout(HP_dropout_type1))\n",
        "    # BLock 2 ends \n",
        "\n",
        "    #Block3 starts\n",
        "    model.add(Conv2D(HP_block3_conv_dim,HP_small_pattern, padding='same' ))\n",
        "    model.add(Activation('relu'))\n",
        "    model.add(BatchNormalization(axis=channel_dim))\n",
        "    model.add(Conv2D(HP_block3_conv_dim,HP_small_pattern, padding='same' ))\n",
        "    model.add(Activation('relu'))\n",
        "    model.add(BatchNormalization(axis=channel_dim))\n",
        "    model.add(MaxPooling2D(pool_size=HP_large_pattern))\n",
        "    model.add(Dropout(HP_dropout_type1))\n",
        "    # block3 ends\n",
        "\n",
        "    #Block4 starts\n",
        "    model.add(Conv2D(HP_block4_conv_dim,HP_small_pattern, padding='same' ))\n",
        "    model.add(Activation('relu'))\n",
        "    model.add(BatchNormalization(axis=channel_dim))\n",
        "    model.add(Conv2D(HP_block4_conv_dim,HP_small_pattern, padding='same' ))\n",
        "    model.add(Activation('relu'))\n",
        "    model.add(BatchNormalization(axis=channel_dim))\n",
        "    model.add(MaxPooling2D(pool_size=HP_large_pattern))\n",
        "    model.add(Dropout(HP_dropout_type1))\n",
        "    # block4 ends\n",
        "\n",
        "    # final block5- classification/prediction\n",
        "    model.add(Flatten())\n",
        "    model.add(Dense(HP_block5_dense_dim))\n",
        "    model.add(Activation('relu'))\n",
        "    # optional: Batch Normalization and Dropout -> to avoid overfitting \n",
        "    model.add(BatchNormalization())\n",
        "    model.add(Dropout(HP_dropout_type2))\n",
        "    model.add(Dense(classes))\n",
        "    model.add(Activation('softmax'))\n",
        "    # final block ends\n",
        "\n",
        "    return model\n",
        "\n",
        "\n"
      ],
      "execution_count": null,
      "outputs": []
    },
    {
      "cell_type": "code",
      "metadata": {
        "id": "FsqHr2JaObEn",
        "colab": {
          "base_uri": "https://localhost:8080/",
          "height": 1000
        },
        "outputId": "f252072e-3ea1-4fb0-f057-9fa03dfb6daf"
      },
      "source": [
        " # minimum image sizes that NN can clearly identify\n",
        "# black & white images                          -> 28X28 \n",
        "# multi-channels images (3 channels in our case)-> 96X96 (3 X (32,32)) \n",
        "\n",
        "model = PandaVGG.build(96, 96, 3, 3)\n",
        "model.summary() \n",
        "\n",
        "# 32 filters -> each filter is 3X3 -> PER CHANNEL\n",
        "# 1 filter = [ [w11,w12,w13],[w21,w22,w23],[w31,w32,w33]] -> 9 weights \n",
        "# 32 X 9 = 288 -> 1 channel\n",
        "\n",
        "# 288 X 3 = 864 weights\n",
        "# 32 filters generated, each with 1 bias\n",
        "# weights + bias = 864 + 32 = 896\n",
        "\n",
        "# EXPORT the built model -> right approach \n",
        "# next file-> train.py -> import the model "
      ],
      "execution_count": null,
      "outputs": [
        {
          "output_type": "stream",
          "text": [
            "Model: \"sequential_1\"\n",
            "_________________________________________________________________\n",
            "Layer (type)                 Output Shape              Param #   \n",
            "=================================================================\n",
            "conv2d_1 (Conv2D)            (None, 96, 96, 32)        896       \n",
            "_________________________________________________________________\n",
            "activation_1 (Activation)    (None, 96, 96, 32)        0         \n",
            "_________________________________________________________________\n",
            "batch_normalization_1 (Batch (None, 96, 96, 32)        128       \n",
            "_________________________________________________________________\n",
            "max_pooling2d_1 (MaxPooling2 (None, 32, 32, 32)        0         \n",
            "_________________________________________________________________\n",
            "dropout_1 (Dropout)          (None, 32, 32, 32)        0         \n",
            "_________________________________________________________________\n",
            "conv2d_2 (Conv2D)            (None, 32, 32, 64)        18496     \n",
            "_________________________________________________________________\n",
            "activation_2 (Activation)    (None, 32, 32, 64)        0         \n",
            "_________________________________________________________________\n",
            "batch_normalization_2 (Batch (None, 32, 32, 64)        256       \n",
            "_________________________________________________________________\n",
            "conv2d_3 (Conv2D)            (None, 32, 32, 64)        36928     \n",
            "_________________________________________________________________\n",
            "activation_3 (Activation)    (None, 32, 32, 64)        0         \n",
            "_________________________________________________________________\n",
            "batch_normalization_3 (Batch (None, 32, 32, 64)        256       \n",
            "_________________________________________________________________\n",
            "max_pooling2d_2 (MaxPooling2 (None, 16, 16, 64)        0         \n",
            "_________________________________________________________________\n",
            "dropout_2 (Dropout)          (None, 16, 16, 64)        0         \n",
            "_________________________________________________________________\n",
            "conv2d_4 (Conv2D)            (None, 16, 16, 128)       73856     \n",
            "_________________________________________________________________\n",
            "activation_4 (Activation)    (None, 16, 16, 128)       0         \n",
            "_________________________________________________________________\n",
            "batch_normalization_4 (Batch (None, 16, 16, 128)       512       \n",
            "_________________________________________________________________\n",
            "conv2d_5 (Conv2D)            (None, 16, 16, 128)       147584    \n",
            "_________________________________________________________________\n",
            "activation_5 (Activation)    (None, 16, 16, 128)       0         \n",
            "_________________________________________________________________\n",
            "batch_normalization_5 (Batch (None, 16, 16, 128)       512       \n",
            "_________________________________________________________________\n",
            "max_pooling2d_3 (MaxPooling2 (None, 8, 8, 128)         0         \n",
            "_________________________________________________________________\n",
            "dropout_3 (Dropout)          (None, 8, 8, 128)         0         \n",
            "_________________________________________________________________\n",
            "conv2d_6 (Conv2D)            (None, 8, 8, 256)         295168    \n",
            "_________________________________________________________________\n",
            "activation_6 (Activation)    (None, 8, 8, 256)         0         \n",
            "_________________________________________________________________\n",
            "batch_normalization_6 (Batch (None, 8, 8, 256)         1024      \n",
            "_________________________________________________________________\n",
            "conv2d_7 (Conv2D)            (None, 8, 8, 256)         590080    \n",
            "_________________________________________________________________\n",
            "activation_7 (Activation)    (None, 8, 8, 256)         0         \n",
            "_________________________________________________________________\n",
            "batch_normalization_7 (Batch (None, 8, 8, 256)         1024      \n",
            "_________________________________________________________________\n",
            "max_pooling2d_4 (MaxPooling2 (None, 4, 4, 256)         0         \n",
            "_________________________________________________________________\n",
            "dropout_4 (Dropout)          (None, 4, 4, 256)         0         \n",
            "_________________________________________________________________\n",
            "flatten_1 (Flatten)          (None, 4096)              0         \n",
            "_________________________________________________________________\n",
            "dense_1 (Dense)              (None, 1024)              4195328   \n",
            "_________________________________________________________________\n",
            "activation_8 (Activation)    (None, 1024)              0         \n",
            "_________________________________________________________________\n",
            "batch_normalization_8 (Batch (None, 1024)              4096      \n",
            "_________________________________________________________________\n",
            "dropout_5 (Dropout)          (None, 1024)              0         \n",
            "_________________________________________________________________\n",
            "dense_2 (Dense)              (None, 3)                 3075      \n",
            "_________________________________________________________________\n",
            "activation_9 (Activation)    (None, 3)                 0         \n",
            "=================================================================\n",
            "Total params: 5,369,219\n",
            "Trainable params: 5,365,315\n",
            "Non-trainable params: 3,904\n",
            "_________________________________________________________________\n"
          ],
          "name": "stdout"
        }
      ]
    },
    {
      "cell_type": "code",
      "metadata": {
        "id": "WmLr0E8mU9Pa"
      },
      "source": [
        "# data_clean.py \n",
        "# in real life, should have been a separate file\n",
        "import matplotlib.pyplot as plt\n",
        "import matplotlib\n",
        "matplotlib.use('Agg')\n",
        "from sklearn.preprocessing import LabelBinarizer # Label encoding, 1-hot encoding, multi-encoding\n",
        "# LABEL binarizer is a 1-hot encoded MATRIX \n",
        "import cv2\n",
        "import numpy as np\n",
        "import random\n",
        "import imutils\n",
        "from imutils import paths\n",
        "from keras.preprocessing.image import ImageDataGenerator, img_to_array\n",
        "from sklearn.model_selection import train_test_split\n"
      ],
      "execution_count": null,
      "outputs": []
    },
    {
      "cell_type": "code",
      "metadata": {
        "id": "Tx3uMIvDVQZc"
      },
      "source": [
        "# if this was a User Facing software or web/mobile app, we would have been using a UI\n",
        "HP_dataset = 'data'\n",
        "HP_model_path = 'bin/model'\n",
        "HP_binarized_labels = 'bin/labels'\n",
        "HP_metrics_storage = 'eval'\n",
        "HP_test_dataset = 'test'\n",
        "HP_epoch = 100\n",
        "HP_init_lr = 1e-3 # learning_rate = 0.001\n",
        "HP_batch_size = 32\n",
        "HP_image_dim = (96,96,3)"
      ],
      "execution_count": null,
      "outputs": []
    },
    {
      "cell_type": "code",
      "metadata": {
        "id": "00xIhEifYo26",
        "colab": {
          "base_uri": "https://localhost:8080/",
          "height": 104
        },
        "outputId": "7b1ecbed-bb98-4aaf-8810-0f0d6cd6c017"
      },
      "source": [
        "data = []\n",
        "labels = [] \n",
        "# read all images\n",
        "all_images = sorted(list(paths.list_images(HP_dataset)))\n",
        "all_images[:5]"
      ],
      "execution_count": null,
      "outputs": [
        {
          "output_type": "execute_result",
          "data": {
            "text/plain": [
              "['data/dogs/00001.png',\n",
              " 'data/dogs/00005.png',\n",
              " 'data/dogs/00087.png',\n",
              " 'data/dogs/00120.png',\n",
              " 'data/dogs/00132.png']"
            ]
          },
          "metadata": {
            "tags": []
          },
          "execution_count": 17
        }
      ]
    },
    {
      "cell_type": "code",
      "metadata": {
        "id": "GNwYb47uZoVe",
        "colab": {
          "base_uri": "https://localhost:8080/",
          "height": 104
        },
        "outputId": "6a2bcf3d-241a-41a7-e30a-a6437a8a8f12"
      },
      "source": [
        "random.seed(42)\n",
        "random.shuffle(all_images)\n",
        "all_images[:5]"
      ],
      "execution_count": null,
      "outputs": [
        {
          "output_type": "execute_result",
          "data": {
            "text/plain": [
              "['data/pikachu/00000015.jpg',\n",
              " 'data/shaktiman/Shaktiman 00000071.jpg',\n",
              " 'data/shaktiman/Shaktiman 00000148.jpg',\n",
              " 'data/pikachu/00000134.png',\n",
              " 'data/pikachu/00000067.jpg']"
            ]
          },
          "metadata": {
            "tags": []
          },
          "execution_count": 18
        }
      ]
    },
    {
      "cell_type": "code",
      "metadata": {
        "id": "qg-WQMLhaAQg",
        "colab": {
          "base_uri": "https://localhost:8080/",
          "height": 35
        },
        "outputId": "bd77cbcb-279e-4d17-c2eb-32ad7294f095"
      },
      "source": [
        "import os\n",
        "for impath in all_images:\n",
        "  img = cv2.imread(impath)\n",
        "  resized = cv2.resize(img, (HP_image_dim[0],HP_image_dim[1]) )\n",
        "  imageData = img_to_array(resized)\n",
        "  data.append(imageData)\n",
        "  # extract label from filename (2nd last element) / \\\\ \n",
        "  label = impath.split(os.path.sep)[-2]\n",
        "  labels.append(label)\n",
        "\n",
        "print(labels[0])\n",
        "#print(data[0])\n"
      ],
      "execution_count": null,
      "outputs": [
        {
          "output_type": "stream",
          "text": [
            "pikachu\n"
          ],
          "name": "stdout"
        }
      ]
    },
    {
      "cell_type": "code",
      "metadata": {
        "id": "aPg_LAalTxHF"
      },
      "source": [
        " # BATCH NORMALIZATION FUN FACT \n",
        "    # we will be calculating -> mu and sigma for normalization \n",
        "    # parameters will be generated\n",
        "    # but in back/prop-> IS my data(images) changing? if my data is not changing\n",
        "    # then mu and sigma for that data/batch will not change!!! \n",
        "    # Non-TRAINABLE parameters -> that cannot be trained -> back-prop's differentiation \n",
        "    # will NOT change their value! "
      ],
      "execution_count": null,
      "outputs": []
    },
    {
      "cell_type": "code",
      "metadata": {
        "id": "26PFtAS1qvMd"
      },
      "source": [
        "# https://1drv.ms/u/s!AhM-uOEWdqAeqG9rJT9XKZp62sCj?e=hl5sKg\n",
        "# https://1drv.ms/u/s!AhM-uOEWdqAexWFgIl-sNiHnq0JM?e=V3cG4m\n",
        "\n",
        "# Pattern Recognition: pattern recognition by Sergios Theodoridis, Konstantinos"
      ],
      "execution_count": null,
      "outputs": []
    },
    {
      "cell_type": "code",
      "metadata": {
        "id": "YU4d4M3LqiqM"
      },
      "source": [
        "# CONVOLUTIONAL neural networks + Recurring Networks + Lot of unknown stuff = Brain"
      ],
      "execution_count": null,
      "outputs": []
    },
    {
      "cell_type": "code",
      "metadata": {
        "id": "ZvpPcQJpjFTl"
      },
      "source": [
        "# Color theory: https://www.springer.com/gp/book/9780792399285\n",
        "\n",
        "# Concious / Unconcious -> myth \n",
        "# Cerebrum, Cerebellum, Corpus callosum, medulla -> Biologist \n",
        "# biologist and neurologist -> CLASSFIED brains into activities\n",
        "# \n",
        "# They are now proven to be partial knowledges!\n",
        "\n",
        "# Optical nerve was working fine but postoral lobe responsible for\n",
        "# vision was damaged \n",
        "\n",
        "# Neurosurgeons -> clipped optical nerve and connected to a different segment of brain\n",
        "# within matter of months, BRAIN taught itself to SEE from the area where it was not supposed\n",
        "# to! \n",
        "\n",
        "# BRAIN -> Weights and BIASES and unknown parameters! "
      ],
      "execution_count": null,
      "outputs": []
    },
    {
      "cell_type": "code",
      "metadata": {
        "id": "Uwp0Bu5Iqfmg",
        "outputId": "a909a243-fd54-4c5a-9c8e-919b41bfc10a",
        "colab": {
          "base_uri": "https://localhost:8080/",
          "height": 1000
        }
      },
      "source": [
        "from keras.applications.vgg16 import VGG16\n",
        "\n",
        "model = VGG16()\n",
        "model.summary()"
      ],
      "execution_count": null,
      "outputs": [
        {
          "output_type": "stream",
          "text": [
            "Downloading data from https://github.com/fchollet/deep-learning-models/releases/download/v0.1/vgg16_weights_tf_dim_ordering_tf_kernels.h5\n",
            "553467904/553467096 [==============================] - 6s 0us/step\n",
            "Model: \"vgg16\"\n",
            "_________________________________________________________________\n",
            "Layer (type)                 Output Shape              Param #   \n",
            "=================================================================\n",
            "input_1 (InputLayer)         (None, 224, 224, 3)       0         \n",
            "_________________________________________________________________\n",
            "block1_conv1 (Conv2D)        (None, 224, 224, 64)      1792      \n",
            "_________________________________________________________________\n",
            "block1_conv2 (Conv2D)        (None, 224, 224, 64)      36928     \n",
            "_________________________________________________________________\n",
            "block1_pool (MaxPooling2D)   (None, 112, 112, 64)      0         \n",
            "_________________________________________________________________\n",
            "block2_conv1 (Conv2D)        (None, 112, 112, 128)     73856     \n",
            "_________________________________________________________________\n",
            "block2_conv2 (Conv2D)        (None, 112, 112, 128)     147584    \n",
            "_________________________________________________________________\n",
            "block2_pool (MaxPooling2D)   (None, 56, 56, 128)       0         \n",
            "_________________________________________________________________\n",
            "block3_conv1 (Conv2D)        (None, 56, 56, 256)       295168    \n",
            "_________________________________________________________________\n",
            "block3_conv2 (Conv2D)        (None, 56, 56, 256)       590080    \n",
            "_________________________________________________________________\n",
            "block3_conv3 (Conv2D)        (None, 56, 56, 256)       590080    \n",
            "_________________________________________________________________\n",
            "block3_pool (MaxPooling2D)   (None, 28, 28, 256)       0         \n",
            "_________________________________________________________________\n",
            "block4_conv1 (Conv2D)        (None, 28, 28, 512)       1180160   \n",
            "_________________________________________________________________\n",
            "block4_conv2 (Conv2D)        (None, 28, 28, 512)       2359808   \n",
            "_________________________________________________________________\n",
            "block4_conv3 (Conv2D)        (None, 28, 28, 512)       2359808   \n",
            "_________________________________________________________________\n",
            "block4_pool (MaxPooling2D)   (None, 14, 14, 512)       0         \n",
            "_________________________________________________________________\n",
            "block5_conv1 (Conv2D)        (None, 14, 14, 512)       2359808   \n",
            "_________________________________________________________________\n",
            "block5_conv2 (Conv2D)        (None, 14, 14, 512)       2359808   \n",
            "_________________________________________________________________\n",
            "block5_conv3 (Conv2D)        (None, 14, 14, 512)       2359808   \n",
            "_________________________________________________________________\n",
            "block5_pool (MaxPooling2D)   (None, 7, 7, 512)         0         \n",
            "_________________________________________________________________\n",
            "flatten (Flatten)            (None, 25088)             0         \n",
            "_________________________________________________________________\n",
            "fc1 (Dense)                  (None, 4096)              102764544 \n",
            "_________________________________________________________________\n",
            "fc2 (Dense)                  (None, 4096)              16781312  \n",
            "_________________________________________________________________\n",
            "predictions (Dense)          (None, 1000)              4097000   \n",
            "=================================================================\n",
            "Total params: 138,357,544\n",
            "Trainable params: 138,357,544\n",
            "Non-trainable params: 0\n",
            "_________________________________________________________________\n"
          ],
          "name": "stdout"
        }
      ]
    },
    {
      "cell_type": "code",
      "metadata": {
        "id": "ltNfJ6RKrOZ6"
      },
      "source": [
        ""
      ],
      "execution_count": null,
      "outputs": []
    }
  ]
}