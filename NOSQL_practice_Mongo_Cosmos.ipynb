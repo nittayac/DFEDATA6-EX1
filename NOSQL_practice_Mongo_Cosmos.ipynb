{
  "nbformat": 4,
  "nbformat_minor": 0,
  "metadata": {
    "colab": {
      "name": "006 PyMongo Cosmos.ipynb",
      "provenance": [],
      "collapsed_sections": [],
      "include_colab_link": true
    },
    "kernelspec": {
      "name": "python3",
      "display_name": "Python 3"
    },
    "language_info": {
      "name": "python"
    }
  },
  "cells": [
    {
      "cell_type": "markdown",
      "metadata": {
        "id": "view-in-github",
        "colab_type": "text"
      },
      "source": [
        "<a href=\"https://colab.research.google.com/github/nittayac/DFEDATA6-EX1/blob/main/NOSQL_practice_Mongo_Cosmos.ipynb\" target=\"_parent\"><img src=\"https://colab.research.google.com/assets/colab-badge.svg\" alt=\"Open In Colab\"/></a>"
      ]
    },
    {
      "cell_type": "code",
      "metadata": {
        "id": "4J2wIcM1-ZdB"
      },
      "source": [
        "# PLEASE DO NOT CHANGE THIS LINE\n",
        "import pymongo\n",
        "connectionString = \"mongodb://asteroid:qeqpcXHLl1NDTOsnAjH0X8ZkAWgEVUYiusxnjGKgAsc4fKnujvSOOBTdFNYoXFLUs4BFGweeKN1fFZKukehPSA==@asteroid.mongo.cosmos.azure.com:10255/?ssl=true&retrywrites=false&replicaSet=globaldb&maxIdleTimeMS=120000&appName=@asteroid@\"\n",
        "client = pymongo.MongoClient(connectionString)"
      ],
      "execution_count": 7,
      "outputs": []
    },
    {
      "cell_type": "code",
      "metadata": {
        "id": "D1UWc_tb1vAU"
      },
      "source": [
        "mydb = client[\"monkeybar\"] # PLEASE DO NOT CHANGE THIS LINE  (monkeybar:DB Name)"
      ],
      "execution_count": 8,
      "outputs": []
    },
    {
      "cell_type": "code",
      "metadata": {
        "id": "ViuCq-5D87BV"
      },
      "source": [
        "mycol = mydb[\"roles\"] # Change collection name 'fish' to anything else that you like!  (Create :Table)"
      ],
      "execution_count": 9,
      "outputs": []
    },
    {
      "cell_type": "code",
      "metadata": {
        "id": "s-j7opwR9HFW"
      },
      "source": [
        "mydict = { \"name\": \"Lionel\", \"lastname\": \"Messi\" }\n",
        "\n",
        "x = mycol.insert_one(mydict)     #insert record"
      ],
      "execution_count": 10,
      "outputs": []
    },
    {
      "cell_type": "code",
      "metadata": {
        "id": "McCQQaXI9SOe"
      },
      "source": [
        "mydict = { \"name\": \"Christy\", \"lastname\": \"Roll\" }\n",
        "\n",
        "x = mycol.insert_one(mydict)"
      ],
      "execution_count": 11,
      "outputs": []
    },
    {
      "cell_type": "code",
      "metadata": {
        "id": "n0EgDSQq9qIL"
      },
      "source": [
        "r2 = { \"name\": \"Shrimp\", \"complex\": mydict , \"subjects\":[\"eng\",\"fr\",\"gt\"]}\n",
        "\n",
        "x = mycol.insert_one(r2)"
      ],
      "execution_count": null,
      "outputs": []
    },
    {
      "cell_type": "code",
      "metadata": {
        "colab": {
          "base_uri": "https://localhost:8080/"
        },
        "id": "Bu_SKVlg94LP",
        "outputId": "1542e5ab-09d4-4493-90be-d61bfdd3d29d"
      },
      "source": [
        "# MongoDB-> Document Database \n",
        "for x in mycol.find():\n",
        "  print(x)"
      ],
      "execution_count": 12,
      "outputs": [
        {
          "output_type": "stream",
          "name": "stdout",
          "text": [
            "{'_id': ObjectId('6213b0f06dd22e79e610d418'), 'name': 'Lionel', 'lastname': 'Messi'}\n",
            "{'_id': ObjectId('6213b13c6dd22e79e610d419'), 'name': 'Christy', 'lastname': 'Roll'}\n"
          ]
        }
      ]
    },
    {
      "cell_type": "code",
      "source": [
        "mycol.update_one({\"_id\":\"6213b0f06dd22e79e610d418\"},{\"$set\":{\"age\":30}})   #update data"
      ],
      "metadata": {
        "colab": {
          "base_uri": "https://localhost:8080/"
        },
        "id": "4DDt8k4k8A67",
        "outputId": "5ce9e87d-3cff-4d12-875e-79e7494237f8"
      },
      "execution_count": 13,
      "outputs": [
        {
          "output_type": "execute_result",
          "data": {
            "text/plain": [
              "<pymongo.results.UpdateResult at 0x7f6fb008ae10>"
            ]
          },
          "metadata": {},
          "execution_count": 13
        }
      ]
    },
    {
      "cell_type": "code",
      "metadata": {
        "colab": {
          "base_uri": "https://localhost:8080/"
        },
        "id": "1hWjlFs2-d7f",
        "outputId": "d8e512a7-29c2-4f70-cfee-a270a5827e22"
      },
      "source": [
        "# Select data limit 1\n",
        "\n",
        "for x in mycol.find({\"name\":\"Lionel\", \"age\":30}).limit(1):\n",
        "  print(x)"
      ],
      "execution_count": 14,
      "outputs": [
        {
          "output_type": "stream",
          "name": "stdout",
          "text": [
            "{'_id': ObjectId('6213b0f06dd22e79e610d418'), 'name': 'Lionel', 'lastname': 'Messi', 'age': 30}\n"
          ]
        }
      ]
    },
    {
      "cell_type": "code",
      "metadata": {
        "colab": {
          "base_uri": "https://localhost:8080/"
        },
        "id": "PaT8LNoeMFRe",
        "outputId": "49ddc1b0-1a3a-42ce-c33a-754239e57e97"
      },
      "source": [
        "# Use Regex\n",
        "\n",
        "myquery = { \"name\": { \"$regex\": \"p$\" } } # for example, this is a \n",
        "# regular expression that ends with letter 'p'\n",
        "myquery = { \"name\": { \"$regex\": \"^L\" } }  #Find documents where the address starts with the letter \"L\":\n",
        "\n",
        "mydoc = mycol.find(myquery)\n",
        "\n",
        "for x in mydoc:\n",
        "  print(x)"
      ],
      "execution_count": 30,
      "outputs": [
        {
          "output_type": "stream",
          "name": "stdout",
          "text": [
            "{'_id': ObjectId('6213b0f06dd22e79e610d418'), 'name': 'Lionel', 'lastname': 'Messi', 'age': 30}\n"
          ]
        }
      ]
    },
    {
      "cell_type": "code",
      "metadata": {
        "id": "LY5uckz_MBAe",
        "colab": {
          "base_uri": "https://localhost:8080/"
        },
        "outputId": "d04a281c-9e79-439b-f98d-509be0e46422"
      },
      "source": [
        "#insert document into the collection\n",
        "data = [\n",
        "   {\"_id\": \"104\", \"name\": \"Romeo\", \"age\": 25, \"city\": \"Chagemai\"},\n",
        "   {\"_id\": \"105\", \"name\": \"Sarmista\", \"age\": 27, \"city\": \"Phuket\"},\n",
        "   {\"_id\": \"106\", \"name\": \"Rasajna\", \"age\": 40, \"city\": \"Rayong\"}\n",
        "]\n",
        "\n",
        "data = [{'_id': 3, 'name': 'Amy', 'address': 'Apple st 652'},\n",
        "{'_id': 11, 'name': 'Ben', 'address': 'Park Lane 38'},\n",
        "{'_id': 7, 'name': 'Betty', 'address': 'Green Grass 1'},\n",
        "{'_id': 13, 'name': 'Chuck', 'address': 'Main Road 989'},\n",
        "{'_id': 4, 'name': 'Hannah', 'address': 'Mountain 21'},\n",
        "{'_id': 1, 'name': 'John', 'address': 'Highway37'},\n",
        "{'_id': 5, 'name': 'Michael', 'address': 'Valley 345'},\n",
        "{'_id': 2, 'name': 'Peter', 'address': 'Lowstreet 27'},\n",
        "{'_id': 8, 'name': 'Richard', 'address': 'Sky st 331'},\n",
        "{'_id': 6, 'name': 'Sandy', 'address': 'Ocean blvd 2'},\n",
        "{'_id': 9, 'name': 'Susan', 'address': 'One way 98'},\n",
        "{'_id': 10, 'name': 'Vicky', 'address': 'Yellow Garden 2'},\n",
        "{'_id': 14, 'name': 'Viola', 'address': 'Sideway 1633'},\n",
        "{'_id': 12, 'name': 'William', 'address': 'Central st 954'}]\n",
        "print (data)\n",
        "res = mycol.insert_many(data)\n",
        "print(res)\n"
      ],
      "execution_count": 45,
      "outputs": [
        {
          "output_type": "stream",
          "name": "stdout",
          "text": [
            "[{'_id': 3, 'name': 'Amy', 'address': 'Apple st 652'}, {'_id': 11, 'name': 'Ben', 'address': 'Park Lane 38'}, {'_id': 7, 'name': 'Betty', 'address': 'Green Grass 1'}, {'_id': 13, 'name': 'Chuck', 'address': 'Main Road 989'}, {'_id': 4, 'name': 'Hannah', 'address': 'Mountain 21'}, {'_id': 1, 'name': 'John', 'address': 'Highway37'}, {'_id': 5, 'name': 'Michael', 'address': 'Valley 345'}, {'_id': 2, 'name': 'Peter', 'address': 'Lowstreet 27'}, {'_id': 8, 'name': 'Richard', 'address': 'Sky st 331'}, {'_id': 6, 'name': 'Sandy', 'address': 'Ocean blvd 2'}, {'_id': 9, 'name': 'Susan', 'address': 'One way 98'}, {'_id': 10, 'name': 'Vicky', 'address': 'Yellow Garden 2'}, {'_id': 14, 'name': 'Viola', 'address': 'Sideway 1633'}, {'_id': 12, 'name': 'William', 'address': 'Central st 954'}]\n"
          ]
        }
      ]
    },
    {
      "cell_type": "code",
      "source": [
        "#Delete All records\n",
        "x = mycol.delete_many({})\n",
        "print(x.deleted_count, \" documents deleted.\")"
      ],
      "metadata": {
        "colab": {
          "base_uri": "https://localhost:8080/"
        },
        "id": "Rmaj7vKZDMsA",
        "outputId": "d2c4ed37-5491-4dd6-b1d9-51f5ec01e229"
      },
      "execution_count": 40,
      "outputs": [
        {
          "output_type": "stream",
          "name": "stdout",
          "text": [
            "8  documents deleted.\n"
          ]
        }
      ]
    },
    {
      "cell_type": "code",
      "source": [
        "#Delete with Condition\n",
        "myquery = { \"name\": {\"$regex\": \"^R\"} }\n",
        "x = mycol.delete_many(myquery)\n",
        "print(x.deleted_count, \" documents deleted.\")"
      ],
      "metadata": {
        "colab": {
          "base_uri": "https://localhost:8080/"
        },
        "id": "q8GeOqIgMpTj",
        "outputId": "c6717ef9-1065-41da-c48f-046dc1948490"
      },
      "execution_count": 47,
      "outputs": [
        {
          "output_type": "stream",
          "name": "stdout",
          "text": [
            "0  documents deleted.\n"
          ]
        }
      ]
    },
    {
      "cell_type": "code",
      "source": [
        ""
      ],
      "metadata": {
        "colab": {
          "base_uri": "https://localhost:8080/"
        },
        "id": "FyHQeOHfKf46",
        "outputId": "2d923958-3a47-4a5c-f84c-c680c5626cc9"
      },
      "execution_count": 53,
      "outputs": [
        {
          "output_type": "stream",
          "name": "stdout",
          "text": [
            "<pymongo.cursor.Cursor object at 0x7f6fa94ec3d0>\n"
          ]
        }
      ]
    }
  ]
}