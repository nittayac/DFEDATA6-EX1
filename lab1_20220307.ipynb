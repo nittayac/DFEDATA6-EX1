{
  "nbformat": 4,
  "nbformat_minor": 0,
  "metadata": {
    "colab": {
      "name": "Untitled7.ipynb",
      "provenance": [],
      "authorship_tag": "ABX9TyMzFsPTGctAxmBXGkspQ+Oo",
      "include_colab_link": true
    },
    "kernelspec": {
      "name": "python3",
      "display_name": "Python 3"
    },
    "language_info": {
      "name": "python"
    }
  },
  "cells": [
    {
      "cell_type": "markdown",
      "metadata": {
        "id": "view-in-github",
        "colab_type": "text"
      },
      "source": [
        "<a href=\"https://colab.research.google.com/github/nittayac/DFEDATA6-EX1/blob/main/lab1_20220307.ipynb\" target=\"_parent\"><img src=\"https://colab.research.google.com/assets/colab-badge.svg\" alt=\"Open In Colab\"/></a>"
      ]
    },
    {
      "cell_type": "code",
      "execution_count": 9,
      "metadata": {
        "id": "S3J7cFAUHt9S"
      },
      "outputs": [],
      "source": [
        "import string\n",
        "#import re\n",
        "\n",
        "data = ('Jack and jill were walking up the hill on the way to the Supermarket to get some mineral water' \n",
        "+ ' when Jack tripped over a pothole in the road.He fell down and broke his smartphone.    \"Oh dear!\" said jack'\n",
        "+ ';actually,,he didn’t say \"Oh dear\",he used some words that Jill was sure his mother wouldn’t approve of and '\n",
        "+ 'went on to make some descriptive comments on what he thought of the state of the roads leading up the hill.'\n",
        "+ 'jill was so shocked that she didn’t look where she was going and fell down,too, tumbling all the way down the '\n",
        "+ 'hill;  jack got up and went home to mend his phone..    jill suggested using her granny’s remedy of vinegar and '\n",
        "+ 'brown paper to fix the phone; Jack replied with a comment that got him grounded for a week during which time he '\n",
        "+ 'repaired his phone with duct tape and superglue but it was never the same again .')"
      ]
    },
    {
      "cell_type": "code",
      "source": [
        "def replace_text(msg,strOld,strNew):\n",
        "  return  msg.replace(strOld,strNew)"
      ],
      "metadata": {
        "id": "dr543XmZN6sE"
      },
      "execution_count": 10,
      "outputs": []
    },
    {
      "cell_type": "code",
      "source": [
        "def cappital_Letter(msg):\n",
        "  lstr = msg.split(\".  \")\n",
        "  newstr = \"\"\n",
        "  for i in lstr:\n",
        "    i = i.strip()\n",
        "    if len(i) > 1 :\n",
        "      if not i[0] in ['\"',\"~\"]:\n",
        "        newstr += i.capitalize() + \".  \"\n",
        "      else :\n",
        "        newstr += i  + \".  \"\n",
        "  return newstr"
      ],
      "metadata": {
        "id": "VCQBBdM3UTPh"
      },
      "execution_count": 11,
      "outputs": []
    },
    {
      "cell_type": "code",
      "source": [
        "def trans_propername(msg,lstr):\n",
        "  for name in proper_name:\n",
        "   msg = replace_text(msg,name,name.capitalize())\n",
        "  return msg"
      ],
      "metadata": {
        "id": "X7HXkN9Ka0x-"
      },
      "execution_count": 12,
      "outputs": []
    },
    {
      "cell_type": "code",
      "source": [
        "newdata = replace_text(data,\";\",\".\")\n",
        "newdata = replace_text(newdata,\",,\",\", \")   #Commas should be followed by a single space.\n",
        "newdata = replace_text(newdata,\"..\",\".\")    #Semi-colons should be replaced with full stops\n",
        "newdata = replace_text(newdata,\".\",\".  \")   #Sentences should be separated by two spaces.\n",
        "print(newdata)"
      ],
      "metadata": {
        "colab": {
          "base_uri": "https://localhost:8080/"
        },
        "id": "zIERDOFFSyMW",
        "outputId": "92eb076e-63fe-4dbf-fe5e-dcd1405a2a01"
      },
      "execution_count": 13,
      "outputs": [
        {
          "output_type": "stream",
          "name": "stdout",
          "text": [
            "Jack and jill were walking up the hill on the way to the Supermarket to get some mineral water when Jack tripped over a pothole in the road.  He fell down and broke his smartphone.      \"Oh dear!\" said jack.  actually, he didn’t say \"Oh dear\",he used some words that Jill was sure his mother wouldn’t approve of and went on to make some descriptive comments on what he thought of the state of the roads leading up the hill.  jill was so shocked that she didn’t look where she was going and fell down,too, tumbling all the way down the hill.    jack got up and went home to mend his phone.      jill suggested using her granny’s remedy of vinegar and brown paper to fix the phone.   Jack replied with a comment that got him grounded for a week during which time he repaired his phone with duct tape and superglue but it was never the same again .  \n"
          ]
        }
      ]
    },
    {
      "cell_type": "code",
      "source": [
        "newdata = cappital_Letter(newdata)         #Sentences should start with a capital letter.\n",
        "print(newdata)"
      ],
      "metadata": {
        "colab": {
          "base_uri": "https://localhost:8080/"
        },
        "id": "VXAamvmFUJpS",
        "outputId": "e05bfe58-8c6e-43c1-9c63-01220c38ed34"
      },
      "execution_count": 14,
      "outputs": [
        {
          "output_type": "stream",
          "name": "stdout",
          "text": [
            "Jack and jill were walking up the hill on the way to the supermarket to get some mineral water when jack tripped over a pothole in the road.  He fell down and broke his smartphone.  \"Oh dear!\" said jack.  Actually, he didn’t say \"oh dear\",he used some words that jill was sure his mother wouldn’t approve of and went on to make some descriptive comments on what he thought of the state of the roads leading up the hill.  Jill was so shocked that she didn’t look where she was going and fell down,too, tumbling all the way down the hill.  Jack got up and went home to mend his phone.  Jill suggested using her granny’s remedy of vinegar and brown paper to fix the phone.  Jack replied with a comment that got him grounded for a week during which time he repaired his phone with duct tape and superglue but it was never the same again.  \n"
          ]
        }
      ]
    },
    {
      "cell_type": "code",
      "source": [
        "proper_name = ['jack','jill']\n",
        "newdata = trans_propername(newdata,proper_name)   #Correct text should not include duplication of punctuation.\n",
        "print(newdata)"
      ],
      "metadata": {
        "id": "gKMyCZyPl0Sa",
        "outputId": "1b012a27-5a37-4f96-d021-bec9999f92df",
        "colab": {
          "base_uri": "https://localhost:8080/"
        }
      },
      "execution_count": 15,
      "outputs": [
        {
          "output_type": "stream",
          "name": "stdout",
          "text": [
            "Jack and Jill were walking up the hill on the way to the supermarket to get some mineral water when Jack tripped over a pothole in the road.  He fell down and broke his smartphone.  \"Oh dear!\" said Jack.  Actually, he didn’t say \"oh dear\",he used some words that Jill was sure his mother wouldn’t approve of and went on to make some descriptive comments on what he thought of the state of the roads leading up the hill.  Jill was so shocked that she didn’t look where she was going and fell down,too, tumbling all the way down the hill.  Jack got up and went home to mend his phone.  Jill suggested using her granny’s remedy of vinegar and brown paper to fix the phone.  Jack replied with a comment that got him grounded for a week during which time he repaired his phone with duct tape and superglue but it was never the same again.  \n"
          ]
        }
      ]
    }
  ]
}