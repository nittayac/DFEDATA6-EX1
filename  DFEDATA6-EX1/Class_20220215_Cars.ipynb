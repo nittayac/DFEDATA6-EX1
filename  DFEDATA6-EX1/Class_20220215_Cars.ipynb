{
  "nbformat": 4,
  "nbformat_minor": 0,
  "metadata": {
    "colab": {
      "name": "ClassCars_20220215.ipynb",
      "provenance": [],
      "collapsed_sections": [],
      "authorship_tag": "ABX9TyOVPECrpdIYb+KHZU8IKPda",
      "include_colab_link": true
    },
    "kernelspec": {
      "name": "python3",
      "display_name": "Python 3"
    },
    "language_info": {
      "name": "python"
    }
  },
  "cells": [
    {
      "cell_type": "markdown",
      "metadata": {
        "id": "view-in-github",
        "colab_type": "text"
      },
      "source": [
        "<a href=\"https://colab.research.google.com/github/nittayac/DFEDATA6-EX1/blob/main/%20DFEDATA6-EX1/Class_20220215_Cars.ipynb\" target=\"_parent\"><img src=\"https://colab.research.google.com/assets/colab-badge.svg\" alt=\"Open In Colab\"/></a>"
      ]
    },
    {
      "cell_type": "code",
      "execution_count": 43,
      "metadata": {
        "id": "rs1rFXcoYTgj"
      },
      "outputs": [],
      "source": [
        "class cars:\n",
        "  #properties\n",
        "  def __init__(self, colour =\"red\",speed=100,weight=100,move=\"right\", honk=\"\"):\n",
        "    self._colour = colour\n",
        "    self._speed = speed\n",
        "    self._weight = weight\n",
        "    self._move = move\n",
        "    self._honk = honk\n",
        "\n",
        "  #methods\n",
        "  def movement(self):\n",
        "     if self._speed >= 120 : \n",
        "       return f\"moveing : {self._move}\\tDangerous!!\"  \n",
        "     else : return f\"moveing : {self._move}\\tWell driving (>__=)\"\n",
        "\n",
        "  def honk(self):\n",
        "    if self._honk.strip() == \"\" : return f\"No sound..\"\n",
        "    else : return f\"Too lound!!\"\n",
        "\n",
        "  def __repr__(self):\n",
        "    return f\"colour :{self._colour} , speed :{str(self._speed)} , weight:{str(self._weight)} , movement: {self._move}, honk:{self._honk}\""
      ]
    },
    {
      "cell_type": "code",
      "source": [
        "red = cars()\n",
        "print(red)\n",
        "\n",
        "green = cars(colour = \"green\" ,speed=100,honk=\"EEE\")\n",
        "chkSp = green.movement()  + \"\\nYou honk:\" + green.honk()\n",
        "\n",
        "print()\n",
        "print(green)\n",
        "print(chkSp)"
      ],
      "metadata": {
        "colab": {
          "base_uri": "https://localhost:8080/"
        },
        "id": "iovdpdHqbFxP",
        "outputId": "e6ac1dd5-b4aa-437c-d5a3-9115b971f9a5"
      },
      "execution_count": 44,
      "outputs": [
        {
          "output_type": "stream",
          "name": "stdout",
          "text": [
            "colour :red , speed :100 , weight:100 , movement: right, honk:\n",
            "\n",
            "colour :green , speed :100 , weight:100 , movement: right, honk:EEE\n",
            "moveing : right\tWell driving (>__=)\n",
            "You honk:Too lound!!\n"
          ]
        }
      ]
    }
  ]
}