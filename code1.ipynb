{
  "nbformat": 4,
  "nbformat_minor": 0,
  "metadata": {
    "colab": {
      "name": "Untitled7.ipynb",
      "provenance": [],
      "authorship_tag": "ABX9TyOGs/0DRiZbcAr1oiGLjMz1",
      "include_colab_link": true
    },
    "kernelspec": {
      "name": "python3",
      "display_name": "Python 3"
    },
    "language_info": {
      "name": "python"
    }
  },
  "cells": [
    {
      "cell_type": "markdown",
      "metadata": {
        "id": "view-in-github",
        "colab_type": "text"
      },
      "source": [
        "<a href=\"https://colab.research.google.com/github/nittayac/DFEDATA6-EX1/blob/main/code1.ipynb\" target=\"_parent\"><img src=\"https://colab.research.google.com/assets/colab-badge.svg\" alt=\"Open In Colab\"/></a>"
      ]
    },
    {
      "cell_type": "code",
      "execution_count": 76,
      "metadata": {
        "id": "S3J7cFAUHt9S"
      },
      "outputs": [],
      "source": [
        "import string\n",
        "import re\n",
        "\n",
        "data = ('Jack and jill were walking up the hill on the way to the Supermarket to get some mineral water' \n",
        "+ ' when Jack tripped over a pothole in the road.He fell down and broke his smartphone.    \"Oh dear!\" said jack'\n",
        "+ ';actually,,he didn’t say \"Oh dear\",he used some words that Jill was sure his mother wouldn’t approve of and '\n",
        "+ 'went on to make some descriptive comments on what he thought of the state of the roads leading up the hill.'\n",
        "+ 'jill was so shocked that she didn’t look where she was going and fell down,too, tumbling all the way down the '\n",
        "+ 'hill;  jack got up and went home to mend his phone..    jill suggested using her granny’s remedy of vinegar and '\n",
        "+ 'brown paper to fix the phone; Jack replied with a comment that got him grounded for a week during which time he '\n",
        "+ 'repaired his phone with duct tape and superglue but it was never the same again .')"
      ]
    },
    {
      "cell_type": "code",
      "source": [
        "def replace_text(msg,strOld,strNew):\n",
        "  return  msg.replace(strOld,strNew)"
      ],
      "metadata": {
        "id": "dr543XmZN6sE"
      },
      "execution_count": 77,
      "outputs": []
    },
    {
      "cell_type": "code",
      "source": [
        "def cappital_Letter(msg):\n",
        "  lstr = msg.split(\".  \")\n",
        "  newstr = \"\"\n",
        "  for i in lstr:\n",
        "    i = i.strip()\n",
        "    if len(i) > 1 :\n",
        "      if not i[0] in ['\"',\"~\"]:\n",
        "        newstr += i.capitalize() + \".  \"\n",
        "      else :\n",
        "        newstr += i\n",
        "  return newstr"
      ],
      "metadata": {
        "id": "VCQBBdM3UTPh"
      },
      "execution_count": 86,
      "outputs": []
    },
    {
      "cell_type": "code",
      "source": [
        ""
      ],
      "metadata": {
        "id": "X7HXkN9Ka0x-"
      },
      "execution_count": null,
      "outputs": []
    },
    {
      "cell_type": "code",
      "source": [
        "newdata = replace_text(data,\";\",\".\")\n",
        "newdata = replace_text(newdata,\",,\",\", \")   #Commas should be followed by a single space.\n",
        "newdata = replace_text(newdata,\"..\",\".\")    #Semi-colons should be replaced with full stops\n",
        "newdata = replace_text(newdata,\".\",\".  \")    # Sentences should be separated by two spaces.\n",
        "print(newdata)"
      ],
      "metadata": {
        "colab": {
          "base_uri": "https://localhost:8080/"
        },
        "id": "zIERDOFFSyMW",
        "outputId": "c74496dc-4b13-42f9-fe7e-14d4c9e61a8b"
      },
      "execution_count": 78,
      "outputs": [
        {
          "output_type": "stream",
          "name": "stdout",
          "text": [
            "Jack and jill were walking up the hill on the way to the Supermarket to get some mineral water when Jack tripped over a pothole in the road.  He fell down and broke his smartphone.      \"Oh dear!\" said jack.  actually, he didn’t say \"Oh dear\",he used some words that Jill was sure his mother wouldn’t approve of and went on to make some descriptive comments on what he thought of the state of the roads leading up the hill.  jill was so shocked that she didn’t look where she was going and fell down,too, tumbling all the way down the hill.    jack got up and went home to mend his phone.      jill suggested using her granny’s remedy of vinegar and brown paper to fix the phone.   Jack replied with a comment that got him grounded for a week during which time he repaired his phone with duct tape and superglue but it was never the same again .  \n"
          ]
        }
      ]
    },
    {
      "cell_type": "markdown",
      "source": [
        "lstr = newdata.split(\".  \")\n",
        "str = \"\"\n",
        "for i in lstr:\n",
        "  i = i.strip()\n",
        "  if len(i) > 1 :\n",
        "    if not i[0] in ['\"',\"~\"]:\n",
        "      str += i.capitalize() + \".  \"\n",
        "    else :\n",
        "      str += i\n",
        "print(str)\n",
        "    \n",
        "\n",
        "\n"
      ],
      "metadata": {
        "id": "sXA67pMeW4Vl"
      }
    },
    {
      "cell_type": "code",
      "source": [
        "cappital_Letter"
      ],
      "metadata": {
        "id": "VXAamvmFUJpS"
      },
      "execution_count": null,
      "outputs": []
    }
  ]
}